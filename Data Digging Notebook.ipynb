{
 "cells": [
  {
   "cell_type": "code",
   "execution_count": 12,
   "metadata": {
    "collapsed": false
   },
   "outputs": [],
   "source": [
    "%matplotlib inline\n",
    "import matplotlib.pyplot as plt\n",
    "from matplotlib.colors import ListedColormap\n",
    "import os, sys\n",
    "import numpy as np\n",
    "import pandas as pd\n",
    "from sklearn.ensemble import RandomForestClassifier\n",
    "from utils import random_cv_split, int_col_to_string, string_col_to_int, load_gensim_model, encode_column\n"
   ]
  },
  {
   "cell_type": "markdown",
   "metadata": {},
   "source": [
    "# Load Data\n",
    "\n",
    "Read the data into a panda dataframe\n",
    "\n",
    "Build training data using the not null data and a prediction set using the null data.\n",
    "\n",
    "Then split up the training data into a training set and a cross validation set by randomly splitting items up by their program priority code."
   ]
  },
  {
   "cell_type": "code",
   "execution_count": 13,
   "metadata": {
    "collapsed": false
   },
   "outputs": [],
   "source": [
    "df = pd.read_excel('data/LA_Budget_Data.xlsx')"
   ]
  },
  {
   "cell_type": "code",
   "execution_count": 14,
   "metadata": {
    "collapsed": false
   },
   "outputs": [
    {
     "name": "stdout",
     "output_type": "stream",
     "text": [
      "Dept_Code has nulls:  True\n",
      "Department_Name has nulls:  False\n",
      "SubDept_Code has nulls:  False\n",
      "SubDepartment_Name has nulls:  False\n",
      "Prog_Code has nulls:  True\n",
      "Program_Name has nulls:  True\n",
      "Program_Priority has nulls:  True\n",
      "Source_Fund_Code has nulls:  True\n",
      "Source_Fund_Name has nulls:  True\n",
      "Account_Code has nulls:  True\n",
      "Account_Name has nulls:  True\n",
      "Appropriation has nulls:  False\n",
      "Fiscal_Year has nulls:  False\n",
      "Expense_Type has nulls:  True\n"
     ]
    }
   ],
   "source": [
    "for column in df.columns:\n",
    "    \n",
    "    nulls = df[column].isnull().any()\n",
    "    print(column, \"has nulls: \", nulls)\n"
   ]
  },
  {
   "cell_type": "code",
   "execution_count": 27,
   "metadata": {
    "collapsed": false
   },
   "outputs": [],
   "source": [
    "decoders = {}\n",
    "\n",
    "\n",
    "decoders[\"Department_Name\"] = encode_column(df, \"Department_Name\")\n",
    "decoders[\"SubDepartment_Name\"] = encode_column(df, \"SubDepartment_Name\")\n",
    "\n",
    "full_data = df[df[\"Expense_Type\"].notnull()]\n",
    "full_data = full_data.dropna(how='any')\n",
    "\n",
    "encode_column(full_data, \"Expense_Type\")\n",
    "encode_column(full_data, \"Program_Priority\")\n",
    "encode_column(full_data, \"Program_Name\")\n",
    "\n",
    "\n",
    "\n",
    "empty_data = df[False == df[\"Expense_Type\"].notnull()]\n",
    "\n",
    "\n",
    "single_empty = empty_data[empty_data[\"Program_Name\"].notnull()]\n",
    "all_empty = empty_data[False == empty_data[\"Program_Name\"].notnull()]\n",
    "\n",
    "priorities = full_data[\"Program_Priority\"].unique()\n",
    "programs = full_data[\"Program_Name\"].unique()\n",
    "expenses = full_data[\"Expense_Type\"].unique()\n",
    "departments = full_data[\"Dept_Code\"].unique()\n",
    "\n",
    "guaranteed = [\"Encoded_SubDepartment_Name\", \"Encoded_Department_Name\", \"Appropriation\"]\n",
    "not_guaranteed = [\"Encoded_Program_Name\", \"Encoded_Program_Priority\"]\n",
    "\n",
    "all_keys = guaranteed + not_guaranteed"
   ]
  },
  {
   "cell_type": "markdown",
   "metadata": {},
   "source": [
    "# Convert Strings to Ints\n",
    "\n",
    "Before trying to run word2vec, try just running random forest on data giving each string a unique int id"
   ]
  },
  {
   "cell_type": "markdown",
   "metadata": {},
   "source": [
    "# Look For Easy Correlations\n",
    "\n",
    "Other than Dept_Code and Program name, there don't appear to be any great correlations with Expense type. I'm not too optimistic about this approach, but let's see how it goes."
   ]
  },
  {
   "cell_type": "code",
   "execution_count": 28,
   "metadata": {
    "collapsed": false,
    "scrolled": true
   },
   "outputs": [
    {
     "data": {
      "text/html": [
       "<div>\n",
       "<style scoped>\n",
       "    .dataframe tbody tr th:only-of-type {\n",
       "        vertical-align: middle;\n",
       "    }\n",
       "\n",
       "    .dataframe tbody tr th {\n",
       "        vertical-align: top;\n",
       "    }\n",
       "\n",
       "    .dataframe thead th {\n",
       "        text-align: right;\n",
       "    }\n",
       "</style>\n",
       "<table border=\"1\" class=\"dataframe\">\n",
       "  <thead>\n",
       "    <tr style=\"text-align: right;\">\n",
       "      <th></th>\n",
       "      <th>Appropriation</th>\n",
       "      <th>Fiscal_Year</th>\n",
       "      <th>Encoded_Department_Name</th>\n",
       "      <th>Encoded_SubDepartment_Name</th>\n",
       "      <th>Encoded_Expense_Type</th>\n",
       "      <th>Encoded_Program_Priority</th>\n",
       "      <th>Encoded_Program_Name</th>\n",
       "    </tr>\n",
       "  </thead>\n",
       "  <tbody>\n",
       "    <tr>\n",
       "      <th>Appropriation</th>\n",
       "      <td>1.000000</td>\n",
       "      <td>0.017380</td>\n",
       "      <td>0.022168</td>\n",
       "      <td>0.041060</td>\n",
       "      <td>0.036633</td>\n",
       "      <td>0.008716</td>\n",
       "      <td>-0.004502</td>\n",
       "    </tr>\n",
       "    <tr>\n",
       "      <th>Fiscal_Year</th>\n",
       "      <td>0.017380</td>\n",
       "      <td>1.000000</td>\n",
       "      <td>-0.138887</td>\n",
       "      <td>0.032914</td>\n",
       "      <td>-0.092946</td>\n",
       "      <td>-0.292256</td>\n",
       "      <td>0.038540</td>\n",
       "    </tr>\n",
       "    <tr>\n",
       "      <th>Encoded_Department_Name</th>\n",
       "      <td>0.022168</td>\n",
       "      <td>-0.138887</td>\n",
       "      <td>1.000000</td>\n",
       "      <td>0.530920</td>\n",
       "      <td>0.040165</td>\n",
       "      <td>-0.125534</td>\n",
       "      <td>0.138764</td>\n",
       "    </tr>\n",
       "    <tr>\n",
       "      <th>Encoded_SubDepartment_Name</th>\n",
       "      <td>0.041060</td>\n",
       "      <td>0.032914</td>\n",
       "      <td>0.530920</td>\n",
       "      <td>1.000000</td>\n",
       "      <td>0.075124</td>\n",
       "      <td>0.018711</td>\n",
       "      <td>0.071454</td>\n",
       "    </tr>\n",
       "    <tr>\n",
       "      <th>Encoded_Expense_Type</th>\n",
       "      <td>0.036633</td>\n",
       "      <td>-0.092946</td>\n",
       "      <td>0.040165</td>\n",
       "      <td>0.075124</td>\n",
       "      <td>1.000000</td>\n",
       "      <td>0.054820</td>\n",
       "      <td>-0.025987</td>\n",
       "    </tr>\n",
       "    <tr>\n",
       "      <th>Encoded_Program_Priority</th>\n",
       "      <td>0.008716</td>\n",
       "      <td>-0.292256</td>\n",
       "      <td>-0.125534</td>\n",
       "      <td>0.018711</td>\n",
       "      <td>0.054820</td>\n",
       "      <td>1.000000</td>\n",
       "      <td>0.011057</td>\n",
       "    </tr>\n",
       "    <tr>\n",
       "      <th>Encoded_Program_Name</th>\n",
       "      <td>-0.004502</td>\n",
       "      <td>0.038540</td>\n",
       "      <td>0.138764</td>\n",
       "      <td>0.071454</td>\n",
       "      <td>-0.025987</td>\n",
       "      <td>0.011057</td>\n",
       "      <td>1.000000</td>\n",
       "    </tr>\n",
       "  </tbody>\n",
       "</table>\n",
       "</div>"
      ],
      "text/plain": [
       "                            Appropriation  Fiscal_Year  \\\n",
       "Appropriation                    1.000000     0.017380   \n",
       "Fiscal_Year                      0.017380     1.000000   \n",
       "Encoded_Department_Name          0.022168    -0.138887   \n",
       "Encoded_SubDepartment_Name       0.041060     0.032914   \n",
       "Encoded_Expense_Type             0.036633    -0.092946   \n",
       "Encoded_Program_Priority         0.008716    -0.292256   \n",
       "Encoded_Program_Name            -0.004502     0.038540   \n",
       "\n",
       "                            Encoded_Department_Name  \\\n",
       "Appropriation                              0.022168   \n",
       "Fiscal_Year                               -0.138887   \n",
       "Encoded_Department_Name                    1.000000   \n",
       "Encoded_SubDepartment_Name                 0.530920   \n",
       "Encoded_Expense_Type                       0.040165   \n",
       "Encoded_Program_Priority                  -0.125534   \n",
       "Encoded_Program_Name                       0.138764   \n",
       "\n",
       "                            Encoded_SubDepartment_Name  Encoded_Expense_Type  \\\n",
       "Appropriation                                 0.041060              0.036633   \n",
       "Fiscal_Year                                   0.032914             -0.092946   \n",
       "Encoded_Department_Name                       0.530920              0.040165   \n",
       "Encoded_SubDepartment_Name                    1.000000              0.075124   \n",
       "Encoded_Expense_Type                          0.075124              1.000000   \n",
       "Encoded_Program_Priority                      0.018711              0.054820   \n",
       "Encoded_Program_Name                          0.071454             -0.025987   \n",
       "\n",
       "                            Encoded_Program_Priority  Encoded_Program_Name  \n",
       "Appropriation                               0.008716             -0.004502  \n",
       "Fiscal_Year                                -0.292256              0.038540  \n",
       "Encoded_Department_Name                    -0.125534              0.138764  \n",
       "Encoded_SubDepartment_Name                  0.018711              0.071454  \n",
       "Encoded_Expense_Type                        0.054820             -0.025987  \n",
       "Encoded_Program_Priority                    1.000000              0.011057  \n",
       "Encoded_Program_Name                        0.011057              1.000000  "
      ]
     },
     "execution_count": 28,
     "metadata": {},
     "output_type": "execute_result"
    }
   ],
   "source": [
    "full_data.corr()"
   ]
  },
  {
   "cell_type": "markdown",
   "metadata": {},
   "source": [
    "# Try Random Forest\n",
    "\n",
    "Try running data through a random forest classifier with various combinations to see how they work"
   ]
  },
  {
   "cell_type": "code",
   "execution_count": 29,
   "metadata": {
    "collapsed": false
   },
   "outputs": [
    {
     "name": "stdout",
     "output_type": "stream",
     "text": [
      "Keys:  ['Encoded_SubDepartment_Name', 'Encoded_Department_Name', 'Appropriation']\n",
      " Acc:  0.7289198606271777\n",
      "Keys:  ['Encoded_Program_Name', 'Encoded_Program_Priority']\n",
      " Acc:  0.5756380510440835\n"
     ]
    }
   ],
   "source": [
    "\n",
    "#string_col_to_int(\"Dept_Code\", departments, full_data)\n",
    "\n",
    "def train_and_score_rfc(data, train_keys,  iterations=1):\n",
    "    \n",
    "    train, cv = random_cv_split(full_data)\n",
    "    \n",
    "    rfc_low = RandomForestClassifier(n_estimators=10)\n",
    "\n",
    "    \n",
    "    for i in range(iterations):\n",
    "        rfc_low.fit(train[train_keys], train[\"Expense_Type\"])\n",
    "        score = rfc_low.score(cv[train_keys], cv[\"Expense_Type\"])\n",
    "        print(\"Keys: \", train_keys)\n",
    "        print(\" Acc: \", score )\n",
    "\n",
    "    \n",
    "    return rfc_low\n",
    "\n",
    "rfc_g = train_and_score_rfc(full_data, guaranteed)\n",
    "rfc_ng = train_and_score_rfc(full_data, not_guaranteed)"
   ]
  },
  {
   "cell_type": "markdown",
   "metadata": {},
   "source": [
    "So interesting results here: It seems that the best individual indicator is simply Appropriation which makes sense. Then is program name and not far behind Dept code. Last is program priority which makes sense because that was a complex description. So this is kind of good news because for about 200 rows, the only info we have is the dept code and appropriation, so for those rows which we can't run embeddings on, we can still get descent results, given the ~75% accuracy of the only guaranteed keys\n",
    "\n",
    "Now I'm going to try a few combinations just to get a better feel for data"
   ]
  },
  {
   "cell_type": "code",
   "execution_count": 38,
   "metadata": {
    "collapsed": false
   },
   "outputs": [
    {
     "name": "stdout",
     "output_type": "stream",
     "text": [
      "Keys:  ['Encoded_Program_Name', 'Appropriation']\n",
      " Acc:  0.762163438828531\n",
      "Keys:  ['Encoded_Program_Priority', 'Appropriation']\n",
      " Acc:  0.6051601013591339\n",
      "Keys:  ['Encoded_Program_Name', 'Appropriation', 'Encoded_Department_Name']\n",
      " Acc:  0.7748703441772749\n",
      "Keys:  ['Encoded_Program_Name', 'Appropriation', 'Encoded_SubDepartment_Name', 'Encoded_Department_Name']\n",
      " Acc:  0.7843409775306927\n",
      "Keys:  ['Encoded_SubDepartment_Name', 'Encoded_Department_Name', 'Appropriation', 'Encoded_Program_Name', 'Encoded_Program_Priority']\n",
      " Acc:  0.7472025576615665\n"
     ]
    }
   ],
   "source": [
    "rfc = train_and_score_rfc(full_data, [\"Encoded_Program_Name\", \"Appropriation\"])\n",
    "rfc = train_and_score_rfc(full_data, [\"Encoded_Program_Priority\", \"Appropriation\"])\n",
    "rfc = train_and_score_rfc(full_data, [\"Encoded_Program_Name\", \"Appropriation\", \"Encoded_Department_Name\"] )\n",
    "rfc = train_and_score_rfc(full_data, [\"Encoded_Program_Name\", \"Appropriation\", \n",
    "                                      \"Encoded_SubDepartment_Name\", \"Encoded_Department_Name\" ] )\n",
    "rfc_all = train_and_score_rfc(full_data, all_keys)"
   ]
  },
  {
   "cell_type": "markdown",
   "metadata": {},
   "source": [
    "So the best combination is essentially all the keys minus program priority which is something to keep in mind for later. I'm interested to see how the random forest results differ with embedding as opposed to unique values.\n",
    "\n",
    "Random Forest was my first instinct to try on this data but I'm gonna try an SVM just in case it is closer to being linearly separablee"
   ]
  },
  {
   "cell_type": "markdown",
   "metadata": {},
   "source": [
    "# View the Decision Breakdown\n",
    "\n",
    "I'm going to plot the decision breakdown of the guaranteed and not guaranteed rfc to see if they lend any insights"
   ]
  },
  {
   "cell_type": "code",
   "execution_count": 36,
   "metadata": {
    "collapsed": false
   },
   "outputs": [
    {
     "data": {
      "image/png": "[encoded data removed]",
      "text/plain": [
       "<matplotlib.figure.Figure at 0x7faf0e9bafd0>"
      ]
     },
     "metadata": {},
     "output_type": "display_data"
    },
    {
     "data": {
      "image/png": "[encoded data removed]",
      "text/plain": [
       "<matplotlib.figure.Figure at 0x7faf0e904a58>"
      ]
     },
     "metadata": {},
     "output_type": "display_data"
    },
    {
     "data": {
      "image/png": "[encoded data removed]",
      "text/plain": [
       "<matplotlib.figure.Figure at 0x7faf0ea32e48>"
      ]
     },
     "metadata": {},
     "output_type": "display_data"
    }
   ],
   "source": [
    "def plot_rfc_weights(forest, columns, fig_num=1):\n",
    "    \n",
    "    importances = forest.feature_importances_\n",
    "    columns=np.array(columns)\n",
    "\n",
    "    indices = np.argsort(importances)\n",
    "\n",
    "    plt.figure(fig_num)\n",
    "    plt.title('Feature Importances')\n",
    "    plt.barh(range(len(indices)), importances[indices], color='b', align='center')\n",
    "    plt.yticks(range(len(indices)), columns[indices])\n",
    "    plt.xlabel('Relative Importance')\n",
    "\n",
    "    return\n",
    "\n",
    "plot_rfc_weights(rfc_g, guaranteed, 1)\n",
    "plot_rfc_weights(rfc_ng, not_guaranteed, 2)\n",
    "plot_rfc_weights(rfc_all, all_keys, 3)"
   ]
  },
  {
   "cell_type": "markdown",
   "metadata": {},
   "source": [
    "# TakeAway\n",
    "\n",
    "So, unsurprisingly, the Appropriation ammmount is by far the most considered part of the data, followed by the program name. I'm gonna try to do some more work with the program name to extract more information from it later on"
   ]
  },
  {
   "cell_type": "code",
   "execution_count": 37,
   "metadata": {
    "collapsed": false
   },
   "outputs": [
    {
     "name": "stdout",
     "output_type": "stream",
     "text": [
      "SVC guaranteed data Score:  0.6745699674569967\n",
      "SVC not guaranteed data Score:  0.6706183170618317\n"
     ]
    }
   ],
   "source": [
    "from sklearn import svm\n",
    "\n",
    "\n",
    "def train_and_score_svc(data, iterations=1):\n",
    "    \n",
    "    train, cv = random_cv_split(full_data)\n",
    "    \n",
    "    svc_g = svm.SVC()\n",
    "    svc_ng = svm.SVC()\n",
    "    \n",
    "    for i in range(iterations):\n",
    "\n",
    "        svc_g.fit(train[guaranteed], train[\"Expense_Type\"])\n",
    "        score = svc_g.score(cv[guaranteed], cv[\"Expense_Type\"])\n",
    "        print(\"SVC guaranteed data Score: \", score)\n",
    "\n",
    "\n",
    "        svc_ng.fit(train[guaranteed+not_guaranteed], train[\"Expense_Type\"])\n",
    "        score = svc_ng.score(cv[guaranteed+not_guaranteed], cv[\"Expense_Type\"])\n",
    "        print(\"SVC not guaranteed data Score: \", score)\n",
    "    \n",
    "    \n",
    "    return svc_g, svc_ng\n",
    "\n",
    "svc_g, svc_ng = train_and_score_svc(full_data)\n"
   ]
  },
  {
   "cell_type": "markdown",
   "metadata": {},
   "source": [
    "Not as good results as Random Forest, but it might scale better. With a smaller dataset I might use svm, but becasue we have around 80% of the data already filled and 20% not filled, I'm leaning towards the random forest\n",
    "\n",
    "Also, SVM performs worse given the program name and ID, because it probably just adds unneccessary complexity towards the fitting."
   ]
  },
  {
   "cell_type": "markdown",
   "metadata": {},
   "source": [
    "# NLP\n",
    "\n",
    "A major idea in NLP is the idea that word can be encoded into a vector space. Something interesting about this vector space, however, is that the difference in values (i.e. distance) between similar words and phrases will be smaller than the difference in values between dissimilar words. I'm going to try to leverage these encodings to see if there is a greater theme in either program priority or program names and the expense types"
   ]
  },
  {
   "cell_type": "code",
   "execution_count": 234,
   "metadata": {
    "collapsed": true
   },
   "outputs": [],
   "source": [
    "import gensim\n",
    "from gensim.models import word2vec\n",
    "import logging, urllib.request, zipfile"
   ]
  },
  {
   "cell_type": "markdown",
   "metadata": {},
   "source": [
    "Download and load training data"
   ]
  },
  {
   "cell_type": "markdown",
   "metadata": {},
   "source": [
    "# Train Gensim\n",
    "\n",
    "We have to first train Gensim on data in order to load the word2vec of our data. These are some functions to read the zipfile, extract the zipfile, train gensim, and finally save the model under 'mymodel' so we don't have to retrain every time\n",
    "\n",
    "I did packaged all this into a load_gensim_model function which takes in a root path to search for the data and model. If it finds the model it loads it, otherwise, it reads the data, trains the model, saves the model and returns the model. You can read the code in my utils.py file"
   ]
  },
  {
   "cell_type": "code",
   "execution_count": 19,
   "metadata": {
    "collapsed": false
   },
   "outputs": [
    {
     "name": "stdout",
     "output_type": "stream",
     "text": [
      "Found and verified text8.zip\n"
     ]
    }
   ],
   "source": [
    "model = load_gensim_model(os.getcwd()+\"/data/\")"
   ]
  },
  {
   "cell_type": "markdown",
   "metadata": {},
   "source": [
    "Since gensim only allows for word2vec, I need to make a module that can read a string of words and return the average of all the vectors\n",
    "\n",
    "I then have another function that applies this sentence2vec function to an entire column of a pandas dataframe."
   ]
  },
  {
   "cell_type": "code",
   "execution_count": 71,
   "metadata": {
    "collapsed": false
   },
   "outputs": [],
   "source": [
    "dim = 300\n",
    "\n",
    "def sentence2vec(words):\n",
    "    \"\"\"\n",
    "    Module that converts takes in a string \n",
    "    with multiple words, takes the word2vec\n",
    "    of each word, and then averages them all\n",
    "    to get a sentence to vec\n",
    "    \n",
    "    For this dataset, no tf-idf is needed\n",
    "    because no word appears twice in a single sentance\n",
    "    \"\"\"\n",
    "    \n",
    "    avg_vec = np.array([\n",
    "                    np.mean([model.wv[w] for w in words.split() if w in model.wv]\n",
    "                            or [np.zeros(dim)], axis=0)\n",
    "                ]).reshape([300])\n",
    "    return avg_vec\n",
    "\n",
    "\n",
    "def get_vector_column(column_name, keys, df):\n",
    "    \n",
    "    vector_keys = []\n",
    "    \n",
    "    for key in keys:\n",
    "\n",
    "        vector_keys.append(sentence2vec(key))\n",
    "    \n",
    "    col = np.zeros( [df.shape[0], 300] )\n",
    "    \n",
    "    for i, key in enumerate(keys):\n",
    "        index = df[column_name] == key\n",
    "        \n",
    "        index = index.values.reshape([df.shape[0], 1])\n",
    "        \n",
    "        \n",
    "        index = np.repeat(index, 300, axis=1)\n",
    "        \n",
    "        np.place(col, index, vector_keys[i])\n",
    "        \n",
    "    return col\n",
    "\n",
    "\n",
    "    "
   ]
  },
  {
   "cell_type": "markdown",
   "metadata": {},
   "source": [
    "# More Data Preparations\n",
    "\n",
    "Now, I want to prepare training data for a deep learning approach. My plan is to have 2 different models to train. 1 that only accepts the guaranteed information i.e. the department and the appropriation and tries to predict the expense type. Another that takes in the department, appropriation and the sentence vector describing the department. I have 2 functions below used to build up the corresponding datasets."
   ]
  },
  {
   "cell_type": "code",
   "execution_count": 170,
   "metadata": {
    "collapsed": true
   },
   "outputs": [],
   "source": [
    "from sklearn.preprocessing import LabelEncoder, OneHotEncoder\n",
    "    \n",
    "def one_hot_Y(Y):\n",
    "    \n",
    "    label_encoder = LabelEncoder()\n",
    "    integer_encoded = label_encoder.fit_transform(Y)\n",
    "    \n",
    "    onehot_encoder = OneHotEncoder(sparse=False)\n",
    "    integer_encoded = integer_encoded.reshape(len(integer_encoded), 1)\n",
    "    onehot_encoded = onehot_encoder.fit_transform(integer_encoded)\n",
    "    \n",
    "    return onehot_encoded, label_encoder\n",
    "    \n",
    "def build_train_set(df, columns):\n",
    "    \n",
    "    #name_vectors = get_vector_column(\"Program_Name\", programs, df)\n",
    "    \n",
    "    X_data = df[columns].values\n",
    "    \n",
    "    Y = df[\"Expense_Type\"].values\n",
    "    \n",
    "    Y, decoder = one_hot_Y(Y)\n",
    "    \n",
    "    return name_vectors, X_data, Y, decoder\n",
    "    "
   ]
  },
  {
   "cell_type": "markdown",
   "metadata": {},
   "source": [
    "# Time Set up the Models"
   ]
  },
  {
   "cell_type": "code",
   "execution_count": 86,
   "metadata": {
    "collapsed": true
   },
   "outputs": [],
   "source": [
    "from keras.models import Sequential, Model\n",
    "from keras.layers import Dense, Input, Concatenate\n"
   ]
  },
  {
   "cell_type": "markdown",
   "metadata": {},
   "source": [
    "# Start Slow\n",
    "\n",
    "First I'm going to start out with a basic model that only accepts the guaranteed information. This will provide a good baseline for future models "
   ]
  },
  {
   "cell_type": "code",
   "execution_count": 210,
   "metadata": {
    "collapsed": true
   },
   "outputs": [],
   "source": [
    "basic_model = Sequential()\n",
    "\n",
    "in_shape = (2,)\n",
    "\n",
    "basic_model.add(Dense(128, input_shape=in_shape, activation='relu' ))\n",
    "basic_model.add(Dense(256, activation='relu'))\n",
    "basic_model.add(Dense(len(expenses), activation='softmax'))\n",
    "\n",
    "basic_model.compile(optimizer='rmsprop',\n",
    "              loss='categorical_crossentropy',\n",
    "              metrics=['accuracy'])"
   ]
  },
  {
   "cell_type": "code",
   "execution_count": 218,
   "metadata": {
    "collapsed": false
   },
   "outputs": [
    {
     "name": "stdout",
     "output_type": "stream",
     "text": [
      "Epoch 1/10\n",
      "14243/14243 [==============================] - 1s 58us/step - loss: 1.1243 - acc: 0.5463\n",
      "Epoch 2/10\n",
      "14243/14243 [==============================] - 1s 56us/step - loss: 1.1367 - acc: 0.5478\n",
      "Epoch 3/10\n",
      "14243/14243 [==============================] - 1s 56us/step - loss: 1.1135 - acc: 0.5393\n",
      "Epoch 4/10\n",
      "14243/14243 [==============================] - 1s 56us/step - loss: 1.1139 - acc: 0.5403\n",
      "Epoch 5/10\n",
      "14243/14243 [==============================] - 1s 57us/step - loss: 1.0466 - acc: 0.5469\n",
      "Epoch 6/10\n",
      "14243/14243 [==============================] - 1s 56us/step - loss: 1.0984 - acc: 0.5486\n",
      "Epoch 7/10\n",
      "14243/14243 [==============================] - 1s 57us/step - loss: 1.0888 - acc: 0.5403\n",
      "Epoch 8/10\n",
      "14243/14243 [==============================] - 1s 58us/step - loss: 1.0974 - acc: 0.5527\n",
      "Epoch 9/10\n",
      "14243/14243 [==============================] - 1s 59us/step - loss: 1.2429 - acc: 0.5533\n",
      "Epoch 10/10\n",
      "14243/14243 [==============================] - 1s 57us/step - loss: 1.1169 - acc: 0.5375\n"
     ]
    },
    {
     "data": {
      "text/plain": [
       "<keras.callbacks.History at 0x7fc6e1fccbe0>"
      ]
     },
     "execution_count": 218,
     "metadata": {},
     "output_type": "execute_result"
    }
   ],
   "source": [
    "name_vectors, train_data, Y, decoder = build_train_set(full_data, guaranteed)\n",
    "\n",
    "basic_model.fit(train_data, Y, epochs=10)"
   ]
  },
  {
   "cell_type": "markdown",
   "metadata": {},
   "source": [
    "# Takeaway\n",
    "\n",
    "So unsurprisingly, the model can't even fit the training set much above 50%, much less a test set. I don't see much gain by hyper-parameter tinkering at this point. I think the route to take with the only guaranteed data filling in is just using the random forest. Now I'm gonna try out the non-guaranteed data sentance encoding to see if it helps much. I don't have great hopes, but it's worth a try :)"
   ]
  },
  {
   "cell_type": "code",
   "execution_count": 253,
   "metadata": {
    "collapsed": true
   },
   "outputs": [],
   "source": [
    "big_X = np.concatenate([train_data, name_vectors], axis=1)\n",
    "\n",
    "bigger_model = Sequential()\n",
    "\n",
    "in_shape = (302,)\n",
    "\n",
    "bigger_model.add(Dense(128, input_shape=in_shape, activation='relu' ))\n",
    "bigger_model.add(Dense(256, activation='relu'))\n",
    "bigger_model.add(Dense(len(expenses), activation='softmax'))\n",
    "\n",
    "bigger_model.compile(optimizer='rmsprop',\n",
    "              loss='categorical_crossentropy',\n",
    "              metrics=['accuracy'])"
   ]
  },
  {
   "cell_type": "code",
   "execution_count": 254,
   "metadata": {
    "collapsed": false
   },
   "outputs": [
    {
     "name": "stdout",
     "output_type": "stream",
     "text": [
      "Epoch 1/10\n",
      "14243/14243 [==============================] - 1s 82us/step - loss: 7.6928 - acc: 0.4939\n",
      "Epoch 2/10\n",
      "14243/14243 [==============================] - 1s 75us/step - loss: 7.5460 - acc: 0.4979\n",
      "Epoch 3/10\n",
      "14243/14243 [==============================] - 1s 76us/step - loss: 7.4784 - acc: 0.4974\n",
      "Epoch 4/10\n",
      "14243/14243 [==============================] - 1s 76us/step - loss: 7.3967 - acc: 0.5059\n",
      "Epoch 5/10\n",
      "14243/14243 [==============================] - 1s 75us/step - loss: 7.2776 - acc: 0.5022\n",
      "Epoch 6/10\n",
      "14243/14243 [==============================] - 1s 77us/step - loss: 6.9535 - acc: 0.5056\n",
      "Epoch 7/10\n",
      "14243/14243 [==============================] - 1s 78us/step - loss: 1.8774 - acc: 0.5119\n",
      "Epoch 8/10\n",
      "14243/14243 [==============================] - 1s 78us/step - loss: 1.5324 - acc: 0.5181\n",
      "Epoch 9/10\n",
      "14243/14243 [==============================] - 1s 77us/step - loss: 1.6682 - acc: 0.5278\n",
      "Epoch 10/10\n",
      "14243/14243 [==============================] - 1s 78us/step - loss: 1.2556 - acc: 0.5357\n"
     ]
    },
    {
     "data": {
      "text/plain": [
       "<keras.callbacks.History at 0x7fc6d9f519e8>"
      ]
     },
     "execution_count": 254,
     "metadata": {},
     "output_type": "execute_result"
    }
   ],
   "source": [
    "bigger_model.fit(big_X, Y, epochs = 10)"
   ]
  },
  {
   "cell_type": "markdown",
   "metadata": {},
   "source": [
    "# Last DL Effort\n",
    "\n",
    "So the last few efforts didn't go very well, so I'm gonna try 1 more task. I'm gonna try to run the word encodings through a FC encoder, then concatenate that with the other data, and then make a prediction\n",
    "\n",
    "But, given the small sample size and wide variety of uncorrelated inputs, I didn't think this was a problem well suited for deep learning. I was more interested in whether the vectorization of the sentences would show any improvements over the baseline but it did not seem to"
   ]
  },
  {
   "cell_type": "code",
   "execution_count": 320,
   "metadata": {
    "collapsed": false
   },
   "outputs": [],
   "source": [
    "vec = Input(shape=(300,))\n",
    "\n",
    "enc1 = Dense(128, activation='relu')(vec)\n",
    "enc2 = Dense(64, activation='relu')(enc1)\n",
    "enc3 = Dense(5, activation='relu')(enc2)\n",
    "\n",
    "data = Input(shape=(2,))\n",
    "\n",
    "full_data = Concatenate()([vec, data])\n",
    "\n",
    "fc1 = Dense(64, activation='relu')(full_data)\n",
    "fc2 = Dense(128, activation='relu')(fc1)\n",
    "output = Dense(len(expenses), activation='softmax')(fc2)\n",
    "\n",
    "final_model = Model([vec, data], output)\n",
    "\n",
    "final_model.compile(optimizer='rmsprop',\n",
    "              loss='categorical_crossentropy',\n",
    "              metrics=['accuracy'])\n"
   ]
  },
  {
   "cell_type": "code",
   "execution_count": 321,
   "metadata": {
    "collapsed": false
   },
   "outputs": [
    {
     "name": "stdout",
     "output_type": "stream",
     "text": [
      "Epoch 1/10\n",
      "14243/14243 [==============================] - 1s 63us/step - loss: 7.7375 - acc: 0.4858\n",
      "Epoch 2/10\n",
      "14243/14243 [==============================] - 1s 52us/step - loss: 7.6900 - acc: 0.4934\n",
      "Epoch 3/10\n",
      "14243/14243 [==============================] - 1s 52us/step - loss: 7.5510 - acc: 0.4992\n",
      "Epoch 4/10\n",
      "14243/14243 [==============================] - 1s 53us/step - loss: 7.6876 - acc: 0.4944\n",
      "Epoch 5/10\n",
      "14243/14243 [==============================] - 1s 54us/step - loss: 7.6477 - acc: 0.4936\n",
      "Epoch 6/10\n",
      "14243/14243 [==============================] - 1s 54us/step - loss: 7.4674 - acc: 0.5035\n",
      "Epoch 7/10\n",
      "14243/14243 [==============================] - 1s 55us/step - loss: 7.4139 - acc: 0.4976\n",
      "Epoch 8/10\n",
      "14243/14243 [==============================] - 1s 55us/step - loss: 7.0525 - acc: 0.5082\n",
      "Epoch 9/10\n",
      "14243/14243 [==============================] - 1s 57us/step - loss: 2.9391 - acc: 0.5119\n",
      "Epoch 10/10\n",
      "14243/14243 [==============================] - 1s 58us/step - loss: 1.2222 - acc: 0.5205\n"
     ]
    },
    {
     "data": {
      "text/plain": [
       "<keras.callbacks.History at 0x7fc6cd462390>"
      ]
     },
     "execution_count": 321,
     "metadata": {},
     "output_type": "execute_result"
    }
   ],
   "source": [
    "final_model.fit([name_vectors, train_data], Y, epochs=10)"
   ]
  },
  {
   "cell_type": "markdown",
   "metadata": {},
   "source": [
    "# Done with the Dirty Digging\n",
    "\n",
    "I'm going to now move my stuff over to a clean notebook and try to work through some final results"
   ]
  },
  {
   "cell_type": "code",
   "execution_count": null,
   "metadata": {
    "collapsed": true
   },
   "outputs": [],
   "source": []
  }
 ],
 "metadata": {
  "anaconda-cloud": {},
  "kernelspec": {
   "display_name": "Python [conda root]",
   "language": "python",
   "name": "conda-root-py"
  },
  "language_info": {
   "codemirror_mode": {
    "name": "ipython",
    "version": 3
   },
   "file_extension": ".py",
   "mimetype": "text/x-python",
   "name": "python",
   "nbconvert_exporter": "python",
   "pygments_lexer": "ipython3",
   "version": "3.5.2"
  }
 },
 "nbformat": 4,
 "nbformat_minor": 1
}
