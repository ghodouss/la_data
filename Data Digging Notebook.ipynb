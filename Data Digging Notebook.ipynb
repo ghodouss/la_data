{
 "cells": [
  {
   "cell_type": "code",
   "execution_count": 6,
   "metadata": {
    "collapsed": false
   },
   "outputs": [],
   "source": [
    "%matplotlib inline\n",
    "import matplotlib.pyplot as plt\n",
    "from matplotlib.colors import ListedColormap\n",
    "import os, sys\n",
    "import numpy as np\n",
    "import pandas as pd\n",
    "from sklearn.ensemble import RandomForestClassifier\n",
    "from sklearn import svm\n",
    "from utils import random_cv_split, int_col_to_string, string_col_to_int, load_gensim_model, encode_column\n"
   ]
  },
  {
   "cell_type": "markdown",
   "metadata": {},
   "source": [
    "# Load Data\n",
    "\n",
    "Read the data into a panda dataframe\n",
    "\n",
    "Build training data using the not null data and a prediction set using the null data.\n",
    "\n",
    "Then split up the training data into a training set and a cross validation set by randomly splitting items up by their program priority code."
   ]
  },
  {
   "cell_type": "code",
   "execution_count": 2,
   "metadata": {
    "collapsed": false
   },
   "outputs": [],
   "source": [
    "df = pd.read_excel('data/LA_Budget_Data.xlsx')"
   ]
  },
  {
   "cell_type": "code",
   "execution_count": 3,
   "metadata": {
    "collapsed": false
   },
   "outputs": [
    {
     "name": "stdout",
     "output_type": "stream",
     "text": [
      "Dept_Code has nulls:  True\n",
      "Department_Name has nulls:  False\n",
      "SubDept_Code has nulls:  False\n",
      "SubDepartment_Name has nulls:  False\n",
      "Prog_Code has nulls:  True\n",
      "Program_Name has nulls:  True\n",
      "Program_Priority has nulls:  True\n",
      "Source_Fund_Code has nulls:  True\n",
      "Source_Fund_Name has nulls:  True\n",
      "Account_Code has nulls:  True\n",
      "Account_Name has nulls:  True\n",
      "Appropriation has nulls:  False\n",
      "Fiscal_Year has nulls:  False\n",
      "Expense_Type has nulls:  True\n"
     ]
    }
   ],
   "source": [
    "for column in df.columns:\n",
    "    \n",
    "    nulls = df[column].isnull().any()\n",
    "    print(column, \"has nulls: \", nulls)\n"
   ]
  },
  {
   "cell_type": "code",
   "execution_count": 4,
   "metadata": {
    "collapsed": false
   },
   "outputs": [],
   "source": [
    "decoders = {}\n",
    "\n",
    "\n",
    "decoders[\"Department_Name\"] = encode_column(df, \"Department_Name\")\n",
    "decoders[\"SubDepartment_Name\"] = encode_column(df, \"SubDepartment_Name\")\n",
    "\n",
    "full_data = df[df[\"Expense_Type\"].notnull()]\n",
    "full_data = full_data.dropna(how='any')\n",
    "\n",
    "encode_column(full_data, \"Expense_Type\")\n",
    "encode_column(full_data, \"Program_Priority\")\n",
    "encode_column(full_data, \"Program_Name\")\n",
    "encode_column(full_data, \"Account_Name\")\n",
    "\n",
    "\n",
    "empty_data = df[False == df[\"Expense_Type\"].notnull()]\n",
    "\n",
    "\n",
    "single_empty = empty_data[empty_data[\"Account_Name\"].notnull()]\n",
    "all_empty = empty_data[False == empty_data[\"Account_Name\"].notnull()]\n",
    "\n",
    "priorities = full_data[\"Program_Priority\"].unique()\n",
    "programs = full_data[\"Program_Name\"].unique()\n",
    "expenses = full_data[\"Expense_Type\"].unique()\n",
    "departments = full_data[\"Dept_Code\"].unique()\n",
    "\n",
    "guaranteed = [\"Encoded_SubDepartment_Name\", \"Encoded_Department_Name\", \"Appropriation\"]\n",
    "not_guaranteed = [\"Encoded_Program_Name\", \"Encoded_Program_Priority\", \"Encoded_Account_Name\"]\n",
    "\n",
    "all_keys = guaranteed + not_guaranteed"
   ]
  },
  {
   "cell_type": "markdown",
   "metadata": {},
   "source": [
    "# Test a hardcoded method to serve as baseline\n",
    "\n",
    "To me, it looks like the only guaranteed info for the rows that don't have expense type is the department name\n",
    "and appropriation, so that's what i'll build the baseline model using.\n",
    "Algorithm: For each row in the dataset find all other rows with the same department name. Then,\n",
    "out of these rows, find the row that has the appropriation value closest to the current row's. Lastly,\n",
    "check if the expense types are equal and add to accuracy score if so.\n",
    "\n",
    "Possible Extensions: Find 'n' closest rows and then take a polling on their expense types when making final prediction.\n",
    "\n"
   ]
  },
  {
   "cell_type": "code",
   "execution_count": 80,
   "metadata": {
    "collapsed": false
   },
   "outputs": [
    {
     "name": "stdout",
     "output_type": "stream",
     "text": [
      "Number of errors: 3\n",
      "Accuracy: 0.7497718177350278\n"
     ]
    }
   ],
   "source": [
    "#keep a count to keep track of current row\n",
    "count = 0\n",
    "#used for accuracy metric\n",
    "num_total =0\n",
    "num_correct = 0.0\n",
    "#sometimes an error occurs when taking the mean, so I just keep track to make sure its no big deal\n",
    "num_minargerr = 0\n",
    "\n",
    "\n",
    "for index, row in full_data.iterrows():\n",
    "    #current_rows appropriation\n",
    "    approp_amount = row[\"Appropriation\"]\n",
    "    indexes = list(np.where(full_data[\"Department_Name\"] == row[\"Department_Name\"])[0])\n",
    "    \n",
    "    #remove current row from the search\n",
    "    indexes = list(filter(lambda a: a != count, indexes))\n",
    "    \n",
    "    #search through rows that have same department name\n",
    "    searching = full_data.iloc[indexes]\n",
    "    searching_list = searching[\"Appropriation\"].tolist()\n",
    "    \n",
    "    #sometimes searching_list is null and triggers an error\n",
    "    try:\n",
    "        #get row with closest appropriation amount\n",
    "        closest_index = min(range(len(searching_list)), key=lambda i: abs(searching_list[i]-approp_amount))\n",
    "        closest_row = searching.iloc[closest_index]\n",
    "        \n",
    "        if(row[\"Expense_Type\"] == closest_row[\"Expense_Type\"]):\n",
    "            num_correct += 1\n",
    "    except:\n",
    "        num_minargerr +=1\n",
    "    \n",
    "    num_total += 1\n",
    "    count+=1\n",
    "print(\"Number of errors:\", num_minargerr)\n",
    "print(\"Accuracy:\", num_correct/num_total)"
   ]
  },
  {
   "cell_type": "markdown",
   "metadata": {},
   "source": [
    "# Look For Easy Correlations\n",
    "\n",
    "Other than Dept_Code and Program name, there don't appear to be any great correlations with Expense type. I'm not too optimistic about this approach, but let's see how it goes."
   ]
  },
  {
   "cell_type": "code",
   "execution_count": 15,
   "metadata": {
    "collapsed": false,
    "scrolled": true
   },
   "outputs": [
    {
     "data": {
      "text/html": [
       "<div>\n",
       "<style scoped>\n",
       "    .dataframe tbody tr th:only-of-type {\n",
       "        vertical-align: middle;\n",
       "    }\n",
       "\n",
       "    .dataframe tbody tr th {\n",
       "        vertical-align: top;\n",
       "    }\n",
       "\n",
       "    .dataframe thead th {\n",
       "        text-align: right;\n",
       "    }\n",
       "</style>\n",
       "<table border=\"1\" class=\"dataframe\">\n",
       "  <thead>\n",
       "    <tr style=\"text-align: right;\">\n",
       "      <th></th>\n",
       "      <th>Appropriation</th>\n",
       "      <th>Fiscal_Year</th>\n",
       "      <th>Encoded_Department_Name</th>\n",
       "      <th>Encoded_SubDepartment_Name</th>\n",
       "      <th>Encoded_Expense_Type</th>\n",
       "      <th>Encoded_Program_Priority</th>\n",
       "      <th>Encoded_Program_Name</th>\n",
       "      <th>Encoded_Account_Name</th>\n",
       "    </tr>\n",
       "  </thead>\n",
       "  <tbody>\n",
       "    <tr>\n",
       "      <th>Appropriation</th>\n",
       "      <td>1.000000</td>\n",
       "      <td>0.017380</td>\n",
       "      <td>0.022168</td>\n",
       "      <td>0.041060</td>\n",
       "      <td>0.036633</td>\n",
       "      <td>0.008716</td>\n",
       "      <td>-0.004502</td>\n",
       "      <td>0.009344</td>\n",
       "    </tr>\n",
       "    <tr>\n",
       "      <th>Fiscal_Year</th>\n",
       "      <td>0.017380</td>\n",
       "      <td>1.000000</td>\n",
       "      <td>-0.138887</td>\n",
       "      <td>0.032914</td>\n",
       "      <td>-0.092946</td>\n",
       "      <td>-0.292256</td>\n",
       "      <td>0.038540</td>\n",
       "      <td>-0.023045</td>\n",
       "    </tr>\n",
       "    <tr>\n",
       "      <th>Encoded_Department_Name</th>\n",
       "      <td>0.022168</td>\n",
       "      <td>-0.138887</td>\n",
       "      <td>1.000000</td>\n",
       "      <td>0.530920</td>\n",
       "      <td>0.040165</td>\n",
       "      <td>-0.125534</td>\n",
       "      <td>0.138764</td>\n",
       "      <td>-0.032562</td>\n",
       "    </tr>\n",
       "    <tr>\n",
       "      <th>Encoded_SubDepartment_Name</th>\n",
       "      <td>0.041060</td>\n",
       "      <td>0.032914</td>\n",
       "      <td>0.530920</td>\n",
       "      <td>1.000000</td>\n",
       "      <td>0.075124</td>\n",
       "      <td>0.018711</td>\n",
       "      <td>0.071454</td>\n",
       "      <td>0.005377</td>\n",
       "    </tr>\n",
       "    <tr>\n",
       "      <th>Encoded_Expense_Type</th>\n",
       "      <td>0.036633</td>\n",
       "      <td>-0.092946</td>\n",
       "      <td>0.040165</td>\n",
       "      <td>0.075124</td>\n",
       "      <td>1.000000</td>\n",
       "      <td>0.054820</td>\n",
       "      <td>-0.025987</td>\n",
       "      <td>0.298865</td>\n",
       "    </tr>\n",
       "    <tr>\n",
       "      <th>Encoded_Program_Priority</th>\n",
       "      <td>0.008716</td>\n",
       "      <td>-0.292256</td>\n",
       "      <td>-0.125534</td>\n",
       "      <td>0.018711</td>\n",
       "      <td>0.054820</td>\n",
       "      <td>1.000000</td>\n",
       "      <td>0.011057</td>\n",
       "      <td>0.022938</td>\n",
       "    </tr>\n",
       "    <tr>\n",
       "      <th>Encoded_Program_Name</th>\n",
       "      <td>-0.004502</td>\n",
       "      <td>0.038540</td>\n",
       "      <td>0.138764</td>\n",
       "      <td>0.071454</td>\n",
       "      <td>-0.025987</td>\n",
       "      <td>0.011057</td>\n",
       "      <td>1.000000</td>\n",
       "      <td>-0.015946</td>\n",
       "    </tr>\n",
       "    <tr>\n",
       "      <th>Encoded_Account_Name</th>\n",
       "      <td>0.009344</td>\n",
       "      <td>-0.023045</td>\n",
       "      <td>-0.032562</td>\n",
       "      <td>0.005377</td>\n",
       "      <td>0.298865</td>\n",
       "      <td>0.022938</td>\n",
       "      <td>-0.015946</td>\n",
       "      <td>1.000000</td>\n",
       "    </tr>\n",
       "  </tbody>\n",
       "</table>\n",
       "</div>"
      ],
      "text/plain": [
       "                            Appropriation  Fiscal_Year  \\\n",
       "Appropriation                    1.000000     0.017380   \n",
       "Fiscal_Year                      0.017380     1.000000   \n",
       "Encoded_Department_Name          0.022168    -0.138887   \n",
       "Encoded_SubDepartment_Name       0.041060     0.032914   \n",
       "Encoded_Expense_Type             0.036633    -0.092946   \n",
       "Encoded_Program_Priority         0.008716    -0.292256   \n",
       "Encoded_Program_Name            -0.004502     0.038540   \n",
       "Encoded_Account_Name             0.009344    -0.023045   \n",
       "\n",
       "                            Encoded_Department_Name  \\\n",
       "Appropriation                              0.022168   \n",
       "Fiscal_Year                               -0.138887   \n",
       "Encoded_Department_Name                    1.000000   \n",
       "Encoded_SubDepartment_Name                 0.530920   \n",
       "Encoded_Expense_Type                       0.040165   \n",
       "Encoded_Program_Priority                  -0.125534   \n",
       "Encoded_Program_Name                       0.138764   \n",
       "Encoded_Account_Name                      -0.032562   \n",
       "\n",
       "                            Encoded_SubDepartment_Name  Encoded_Expense_Type  \\\n",
       "Appropriation                                 0.041060              0.036633   \n",
       "Fiscal_Year                                   0.032914             -0.092946   \n",
       "Encoded_Department_Name                       0.530920              0.040165   \n",
       "Encoded_SubDepartment_Name                    1.000000              0.075124   \n",
       "Encoded_Expense_Type                          0.075124              1.000000   \n",
       "Encoded_Program_Priority                      0.018711              0.054820   \n",
       "Encoded_Program_Name                          0.071454             -0.025987   \n",
       "Encoded_Account_Name                          0.005377              0.298865   \n",
       "\n",
       "                            Encoded_Program_Priority  Encoded_Program_Name  \\\n",
       "Appropriation                               0.008716             -0.004502   \n",
       "Fiscal_Year                                -0.292256              0.038540   \n",
       "Encoded_Department_Name                    -0.125534              0.138764   \n",
       "Encoded_SubDepartment_Name                  0.018711              0.071454   \n",
       "Encoded_Expense_Type                        0.054820             -0.025987   \n",
       "Encoded_Program_Priority                    1.000000              0.011057   \n",
       "Encoded_Program_Name                        0.011057              1.000000   \n",
       "Encoded_Account_Name                        0.022938             -0.015946   \n",
       "\n",
       "                            Encoded_Account_Name  \n",
       "Appropriation                           0.009344  \n",
       "Fiscal_Year                            -0.023045  \n",
       "Encoded_Department_Name                -0.032562  \n",
       "Encoded_SubDepartment_Name              0.005377  \n",
       "Encoded_Expense_Type                    0.298865  \n",
       "Encoded_Program_Priority                0.022938  \n",
       "Encoded_Program_Name                   -0.015946  \n",
       "Encoded_Account_Name                    1.000000  "
      ]
     },
     "execution_count": 15,
     "metadata": {},
     "output_type": "execute_result"
    }
   ],
   "source": [
    "full_data.corr()"
   ]
  },
  {
   "cell_type": "markdown",
   "metadata": {},
   "source": [
    "# Try Random Forest\n",
    "\n",
    "Try running data through a random forest classifier with various combinations to see how they work"
   ]
  },
  {
   "cell_type": "code",
   "execution_count": 34,
   "metadata": {
    "collapsed": false
   },
   "outputs": [
    {
     "name": "stdout",
     "output_type": "stream",
     "text": [
      "Keys:  ['Encoded_SubDepartment_Name', 'Encoded_Department_Name', 'Appropriation']\n",
      " Acc:  0.7325046040515654\n",
      "Keys:  ['Encoded_Program_Name', 'Encoded_Program_Priority', 'Encoded_Account_Name']\n",
      " Acc:  0.9751581907663464\n",
      "Keys:  ['Encoded_SubDepartment_Name', 'Encoded_Department_Name', 'Appropriation', 'Encoded_Account_Name']\n",
      " Acc:  0.9888242142025612\n"
     ]
    }
   ],
   "source": [
    "\n",
    "#string_col_to_int(\"Dept_Code\", departments, full_data)\n",
    "\n",
    "def train_and_score_rfc(data, train_keys,  iterations=1):\n",
    "    \n",
    "    train, cv = random_cv_split(full_data)\n",
    "    \n",
    "    rfc_low = RandomForestClassifier(n_estimators=10)\n",
    "\n",
    "    \n",
    "    for i in range(iterations):\n",
    "        rfc_low.fit(train[train_keys], train[\"Expense_Type\"])\n",
    "        score = rfc_low.score(cv[train_keys], cv[\"Expense_Type\"])\n",
    "        print(\"Keys: \", train_keys)\n",
    "        print(\" Acc: \", score )\n",
    "\n",
    "    \n",
    "    return rfc_low\n",
    "\n",
    "rfc_g = train_and_score_rfc(full_data, guaranteed)\n",
    "rfc_ng = train_and_score_rfc(full_data, not_guaranteed)\n",
    "\n",
    "rfc_sg = train_and_score_rfc(full_data, guaranteed+[\"Encoded_Account_Name\"])"
   ]
  },
  {
   "cell_type": "markdown",
   "metadata": {},
   "source": [
    "So interesting results here: It seems that the best individual indicator is simply Appropriation which makes sense. Then is program name and not far behind Dept code. Last is program priority which makes sense because that was a complex description. So this is kind of good news because for about 200 rows, the only info we have is the dept code and appropriation, so for those rows which we can't run embeddings on, we can still get descent results, given the ~75% accuracy of the only guaranteed keys\n",
    "\n",
    "Now I'm going to try a few combinations just to get a better feel for data"
   ]
  },
  {
   "cell_type": "code",
   "execution_count": 17,
   "metadata": {
    "collapsed": false
   },
   "outputs": [
    {
     "name": "stdout",
     "output_type": "stream",
     "text": [
      "Keys:  ['Encoded_Program_Name', 'Appropriation']\n",
      " Acc:  0.7504097401077031\n",
      "Keys:  ['Encoded_Program_Priority', 'Appropriation']\n",
      " Acc:  0.6121549524472281\n",
      "Keys:  ['Encoded_Program_Name', 'Appropriation', 'Encoded_Department_Name']\n",
      " Acc:  0.7952515279736718\n",
      "Keys:  ['Encoded_Program_Name', 'Appropriation', 'Encoded_SubDepartment_Name', 'Encoded_Department_Name', 'Encoded_Account_Name']\n",
      " Acc:  0.9800092980009298\n",
      "Keys:  ['Encoded_SubDepartment_Name', 'Encoded_Department_Name', 'Appropriation', 'Encoded_Program_Name', 'Encoded_Program_Priority', 'Encoded_Account_Name']\n",
      " Acc:  0.9722418254528347\n"
     ]
    }
   ],
   "source": [
    "rfc = train_and_score_rfc(full_data, [\"Encoded_Program_Name\", \"Appropriation\"])\n",
    "rfc = train_and_score_rfc(full_data, [\"Encoded_Program_Priority\", \"Appropriation\"])\n",
    "rfc = train_and_score_rfc(full_data, [\"Encoded_Program_Name\", \"Appropriation\", \"Encoded_Department_Name\"] )\n",
    "rfc = train_and_score_rfc(full_data, [\"Encoded_Program_Name\", \"Appropriation\", \n",
    "                                      \"Encoded_SubDepartment_Name\", \"Encoded_Department_Name\", \n",
    "                                      \"Encoded_Account_Name\"] )\n",
    "rfc_all = train_and_score_rfc(full_data, all_keys)"
   ]
  },
  {
   "cell_type": "markdown",
   "metadata": {},
   "source": [
    "So the best combination is essentially all the keys minus program priority which is something to keep in mind for later. I'm interested to see how the random forest results differ with embedding as opposed to unique values.\n",
    "\n",
    "Random Forest was my first instinct to try on this data but I'm gonna try an SVM just in case it is closer to being linearly separablee"
   ]
  },
  {
   "cell_type": "markdown",
   "metadata": {},
   "source": [
    "# View the Decision Breakdown\n",
    "\n",
    "I'm going to plot the decision breakdown of the guaranteed and not guaranteed rfc to see if they lend any insights"
   ]
  },
  {
   "cell_type": "code",
   "execution_count": 35,
   "metadata": {
    "collapsed": false
   },
   "outputs": [
    {
     "data": {
      "image/png": "[encoded data removed]",
      "text/plain": [
       "<matplotlib.figure.Figure at 0x7f2c3e506ef0>"
      ]
     },
     "metadata": {},
     "output_type": "display_data"
    },
    {
     "data": {
      "image/png": "[encoded data removed]",
      "text/plain": [
       "<matplotlib.figure.Figure at 0x7f2c3e7e5898>"
      ]
     },
     "metadata": {},
     "output_type": "display_data"
    },
    {
     "data": {
      "image/png": "[encoded data removed]",
      "text/plain": [
       "<matplotlib.figure.Figure at 0x7f2c3e7f4518>"
      ]
     },
     "metadata": {},
     "output_type": "display_data"
    },
    {
     "data": {
      "image/png": "[encoded data removed]",
      "text/plain": [
       "<matplotlib.figure.Figure at 0x7f2c3e7ee940>"
      ]
     },
     "metadata": {},
     "output_type": "display_data"
    }
   ],
   "source": [
    "def plot_rfc_weights(forest, columns, fig_num=1):\n",
    "    \n",
    "    importances = forest.feature_importances_\n",
    "    columns=np.array(columns)\n",
    "\n",
    "    indices = np.argsort(importances)\n",
    "\n",
    "    plt.figure(fig_num)\n",
    "    plt.title('Feature Importances')\n",
    "    plt.barh(range(len(indices)), importances[indices], color='b', align='center')\n",
    "    plt.yticks(range(len(indices)), columns[indices])\n",
    "    plt.xlabel('Relative Importance')\n",
    "\n",
    "    return\n",
    "\n",
    "plot_rfc_weights(rfc_g, guaranteed, 1)\n",
    "plot_rfc_weights(rfc_ng, not_guaranteed, 2)\n",
    "plot_rfc_weights(rfc_sg, guaranteed + [\"Encoded_Account_Name\"], 3)\n",
    "plot_rfc_weights(rfc_all, all_keys, 4)"
   ]
  },
  {
   "cell_type": "markdown",
   "metadata": {},
   "source": [
    "# TakeAway\n",
    "\n",
    "So, unsurprisingly, the Appropriation ammmount is by far the most considered part of the data, followed by the program name. I'm gonna try to do some more work with the program name to extract more information from it later on"
   ]
  },
  {
   "cell_type": "code",
   "execution_count": 5,
   "metadata": {
    "collapsed": false
   },
   "outputs": [
    {
     "name": "stdout",
     "output_type": "stream",
     "text": [
      "SVC guaranteed data Score:  0.678579456057541\n",
      "SVC not guaranteed data Score:  0.6603731175545067\n"
     ]
    }
   ],
   "source": [
    "from sklearn import svm\n",
    "\n",
    "\n",
    "def train_and_score_svc(data, iterations=1):\n",
    "    \n",
    "    train, cv = random_cv_split(full_data)\n",
    "    \n",
    "    svc_g = svm.SVC()\n",
    "    svc_ng = svm.SVC()\n",
    "    \n",
    "    for i in range(iterations):\n",
    "\n",
    "        svc_g.fit(train[guaranteed], train[\"Expense_Type\"])\n",
    "        score = svc_g.score(cv[guaranteed], cv[\"Expense_Type\"])\n",
    "        print(\"SVC guaranteed data Score: \", score)\n",
    "\n",
    "\n",
    "        svc_ng.fit(train[guaranteed+not_guaranteed], train[\"Expense_Type\"])\n",
    "        score = svc_ng.score(cv[guaranteed+not_guaranteed], cv[\"Expense_Type\"])\n",
    "        print(\"SVC not guaranteed data Score: \", score)\n",
    "    \n",
    "    \n",
    "    return svc_g, svc_ng\n",
    "\n",
    "svc_g, svc_ng = train_and_score_svc(full_data)\n"
   ]
  },
  {
   "cell_type": "code",
   "execution_count": 526,
   "metadata": {
    "collapsed": false
   },
   "outputs": [
    {
     "name": "stdout",
     "output_type": "stream",
     "text": [
      "Number of empty data accounts 809\n",
      "Number of empty data accounts not in full data 808\n"
     ]
    }
   ],
   "source": [
    "fa = full_data[\"Account_Name\"].unique()\n",
    "ea = single_empty[\"Account_Name\"].unique()\n",
    "\n",
    "ea = ea[1:]\n",
    "\n",
    "only_ea = np.setdiff1d(ea,fa)\n",
    "\n",
    "print(\"Number of empty data accounts\", len(ea))\n",
    "print(\"Number of empty data accounts not in full data\", len(only_ea))"
   ]
  },
  {
   "cell_type": "code",
   "execution_count": 85,
   "metadata": {
    "collapsed": false
   },
   "outputs": [
    {
     "data": {
      "text/plain": [
       "array(['Gang Reduction and Youth Development Office (2)',\n",
       "       'Lifeline Reimbursement Program (8)',\n",
       "       'Clean Streets - Related Costs (3)',\n",
       "       'Council Community Projects (4)',\n",
       "       'Solid Waste Fee Reimbursement (10)',\n",
       "       'Domestic Abuse Response Teams (5)',\n",
       "       'Gang Injunction Curfew Settlement Agreement (7)',\n",
       "       'Justice Fund (15)', 'Special Events Fee Subsidy - Citywide (11)',\n",
       "       'embRACE LA', 'Census Operations and Outreach (2)',\n",
       "       'FUSE Corps Fellows (6)',\n",
       "       'Heritage Month Celebration & Special Events (13)',\n",
       "       'World Police and Fire Games (2)', 'Aging Programs Various (2)',\n",
       "       'Crisis Response Team (2)', 'Office of Re-entry (2)',\n",
       "       'Cultural, Art and City Events (12)', 'Hot Weather Program',\n",
       "       'Independent Cities Association (14)',\n",
       "       'California Contract Cities (14)', 'Rapid Re-Housing Vouchers',\n",
       "       'Family Source Centers', 'LA RISE',\n",
       "       'Permanent Supportive Housing Environmental Impact Report',\n",
       "       'LAHSA Funding Enhancements (2)',\n",
       "       'Venice Beach 24-hour Public Restroom Access',\n",
       "       'Government Alliance on Race and Equity',\n",
       "       'Official Visits of Dignitaries (9)', 'Accessible Housing Fund',\n",
       "       'RELATED COSTS-CITY ATTORNEY', 'Related Costs-Mayor',\n",
       "       'RELATED COSTS CAO', 'El Pueblo Fund', 'Public Arts Projects',\n",
       "       'Studio City Parking Structure', 'Mural Project Implementation',\n",
       "       'Animal Services - Percent for Art',\n",
       "       'LAPD - Percent for Art Projects',\n",
       "       'Bur of Engineering - Percent Art Projects',\n",
       "       'Washington Public Art and Beautification Project',\n",
       "       'Encino Water Quality Improvement Project',\n",
       "       'General Services Trust Fund', '601 N Avalon Bldg A 90744',\n",
       "       'Reserve for Cash Balance', '215 N Soto Street 90033',\n",
       "       '717 W 9th St 90017', '422 S Gaffey Street 90731',\n",
       "       '9044 N Corbin Ave 91324', '15840 W Monte St Bl B 91342',\n",
       "       '26960 W Monte St Bl A 91342', '801 E Commercial St 90012',\n",
       "       '2069 W Slauson Ave 90062', '900 W 34th Street 90089',\n",
       "       '14250W Arminta Street 91402', '708 N Croft Ave 1-6 90069',\n",
       "       '5030 W Santa Monica Blvd 90029', '6904 W Hollywood Blvd 90028',\n",
       "       '1608 N Cahuenga Blvd 90028', '900S Figueroa St 90015',\n",
       "       '4301 S Central Ave 90011', '5075 S Slauson Ave 90230',\n",
       "       '13068 W Saticoy St 91605', '707W Wilshire Blvd 90017',\n",
       "       '830 S Flower St 90017', '1015 S. Georgia St 90015',\n",
       "       'Street Lighting Maintenance Assessment Fund',\n",
       "       '4380 S Broadway 90037', '20460 W Sherman Way 91306',\n",
       "       '19401 W Business Center Dr 91324', '6506 W Hollywood Blvd 90028',\n",
       "       '123 West Ann St 90012', '6120 N Yolanda Ave 91335',\n",
       "       '1000-1004 W Slauson Ave 90044',\n",
       "       '5112-5118 W Jefferson Blvd 90016', '256 W 70th 90003',\n",
       "       '18700 W Ventura Blvd 91356',\n",
       "       'Target Art - Performing Arts Center', '606 N Figueroa St 90012',\n",
       "       '930 W 34th Street Bldg B', '935 W 35th Place Bldg C 90089',\n",
       "       '915 W 35th Place Bldg D 90089', '905 W 35th Place Bldg E',\n",
       "       '2402 E Anaheim St 90744', '11160 N Stranwood Ave 91345',\n",
       "       '21300 W Sherman Way 91303', '110 N George Burns Road 90048',\n",
       "       '9135 N Independence Ave 91311', '18355 S Figueroa St 90248',\n",
       "       '10961 W Pico Blvd 90064', '9325 N Reseda Blvd 91324',\n",
       "       '14117 W Hubbard St 1 91342', '1011-1025 E Adams Blvd 90011',\n",
       "       '21305 W Ventura Blvd 91367', '9671 N Sunland Blvd 91040',\n",
       "       '7215 W Manchester Ave 90045', '7630 N Van Nuys Blvd 91405',\n",
       "       '2310 East 7th Street Boyle Heights', '139 N Western Ave 90004',\n",
       "       '1627 N Vine St 90028', '1548-1550 W Slauson Ave 90047',\n",
       "       '13550 W Paxton St 91331', '6830 N Alabama Ave 90303',\n",
       "       '1126 S Westmoreland Ave 90006', '12740 West Arroyo Street 91342',\n",
       "       '1901 W 7Th St 90057', '221 N Occidental Blvd 90026',\n",
       "       '810-834 S La Brea Ave 90036', '701 N Stone Canyon Road 90077',\n",
       "       '1327 W 228Th St 90501', '8400 S Osage Ave 90045',\n",
       "       '12730 S Figueroa St 90061', '725 S Figueroa St 5/6th 90017',\n",
       "       '1521 W Pico Blvd I-56 90015', '19701 W Vanowen St 91306',\n",
       "       '19755 W Vanowen St 91306', '6000 St Andrews Place Main 90047',\n",
       "       '6111 S Gramercy Pl 90047', '10720 S Wilmington Ave 90002',\n",
       "       '452-456 S Main St 1-106 90013', '403 W Avenue 33 90031',\n",
       "       '13076 North Glenoaks Boulevard 91342',\n",
       "       '3951-4015 N Reseda Blvd 91356', '512 E Rose Ave 90291',\n",
       "       '3233 S La Cienega Blvd 5 90016', '3200 S Motor Ave 90064',\n",
       "       '14565 W Lanark St 91402', '745 W Adams Blvd 90007',\n",
       "       '6750 W Sunset Blvd 90028', '3223 W 6Th St #101 90020',\n",
       "       '1500 East Anaheim Street 90744', '10118 N San Fernando Rd 91331',\n",
       "       '10747 W Magnolia Blvd 91601', '12500 N Gladstone Ave 91342',\n",
       "       '1700 W 6th 90017', '760 W Washington Blvd 90292',\n",
       "       '5445 N Lankersim Blvd 91601', '18700 W Ventura Blvd 170 91356',\n",
       "       '15222 W Ventura Blvd 91403', '8378-8380 W Melrose Ave 90048',\n",
       "       '540 S Santa Fe Ave 90013', '13691 W Vaughn Street 91340',\n",
       "       '20800 W Sherman Way 91306', '910 N Mahar Ave 90744',\n",
       "       '8500 West Burton Way 90048', '1313 N Vine St 90028',\n",
       "       '851 S Grand Ave Roof 90017',\n",
       "       '7535 North Valjean Avenue Building A 91406',\n",
       "       '4051 S Avalon Blvd 90011', '17641 W Ventura Blvd 91316',\n",
       "       '8600 S Central Ave 90002', '200 W Manchester Ave 90003',\n",
       "       '807 N La Cienega Blvd 90069', '1168 S Barrington Ave 90049',\n",
       "       '6750 West Santa Monica Boulevard 90038',\n",
       "       '600-606 S La Brea Ave 90306', '8930 N Village Ave 91352',\n",
       "       '12500 W Branford St 91352', '5601 N Van Nuys Blvd 91411',\n",
       "       '7035 N Eton Ave 91303', '706 N Citrus Ave 90038',\n",
       "       '313-315 E Culver Blvd 90293', '309-311 E Culver Blvd 90293',\n",
       "       '6920-6930 N Van Nuys Blvd 91405',\n",
       "       '10329 W Palms Blvd Apt 1 90034',\n",
       "       '12210 West Santa Monica Blvd 90025', '1231 S La Brea Ave 90019',\n",
       "       '13131 W Sherman Way Bldg B 91605',\n",
       "       '13131 W Sherman Way Bldg A 91605', '705 W 34Th St 90089',\n",
       "       '5710 S Crenshaw Blvd 90043', '8905 N Glenoaks Blvd 91352',\n",
       "       '6601 N Lankershim Blvd 91606', '19332-19334 W Nordoff St 91324',\n",
       "       '5244 N Laurel Canyon Blvd 91607', '260 S La Brea Ave 90036',\n",
       "       '555 E Ramirez Street', '15903 W Ventura Blvd 91436',\n",
       "       '12411 W Sheldon St 91352', '2401 W Jefferson Blvd 90018',\n",
       "       '12115 W Bluff Creek Drive 90094', '260 S Normandie Ave 90004',\n",
       "       '6751-6755 W Hollywood Bl 90028', '18510 W Victory Blvd 91335',\n",
       "       '10050 W Riverside Drive 91602', '5546 S Westlawn Ave 90066',\n",
       "       '1360 South Figueroa Street 90015', '6800 S Avalon Blvd 90001',\n",
       "       '1413 E 20Th St 90011', '189 S The Grove Dr 90036',\n",
       "       '3200 W San Fernando Road 90065', '5555 N Van Nuys Blvd 91411',\n",
       "       '7644 N Farralone Ave 91304', '801 South Hope Street 90017',\n",
       "       '933 S Towne Ave 101-104 90021', '3515 W Wilshire Blvd 90010',\n",
       "       '1000 W Elysian Park Ave 90012', '1967 W Slauson Ave 90062',\n",
       "       '1031 S Gaffey St 90731', '3425 S Motor Ave 1-115 90034',\n",
       "       '11507 W Oxnard St 91606', '928 N Western Ave 1-49 90029',\n",
       "       '16959 W Devonshire St 91352', '649 N Broadway 90012',\n",
       "       '6222 W Santa Monica Bl 90038', '14024 W Osborne St 91331',\n",
       "       '7850 N Haskell Ave 91406', '1132-1134 S Abbot Kinney Blvd 90291',\n",
       "       '651 S Mission Road 90023', '845 South Figueroa Street 90017',\n",
       "       '3828 W Wilshire Blvd 90010', '637 N Sanford Ave 90744',\n",
       "       '11840 N Balboa Blvd 91344', '10840 W Wilshire Blvd 90024',\n",
       "       '400 S Hope St 90071', '901 East 12th Street 90021',\n",
       "       '710 N El Centro Ave 90038', '123 E 32Nd St 90011',\n",
       "       '307 W Pacific Coast Hwy 90744', '5710 S Paloma Ave 90011',\n",
       "       '555 S Flower St Flr 51 90071', '523 W 6th Street 90013',\n",
       "       '939 South Hill Street 90012', '13310 W Sherman Way 91605',\n",
       "       '2131 W 3rd St 90057', '921 S Crocker Street 90021',\n",
       "       '6501 N Fallbrook Ave 91307', '151 W 25Th St 90007',\n",
       "       '810 South Broadway 90014', '9301 N Tampa Ave #218 91324',\n",
       "       '810 East Pico Blvd 90021', '5867 S Central Ave Shop#2 90001',\n",
       "       '5908 W Manchester Ave 90045', '735 W Battery St 90731',\n",
       "       '1490 W 7th St 90732', '1068 N Western Ave 90029',\n",
       "       '2404 S Frampton Ave 90710', '1737 N Las Palmas Ave 1-82 90028',\n",
       "       '2500 S Western Ave 90018', '516-518 N Palisades Drive 90272',\n",
       "       '5837 S Central Ave 90001', '4214 S Lincoln Blvd 90292',\n",
       "       '8506 E Osage Ave 90045', '17710 W Roscoe Blvd 91325',\n",
       "       '6901 N Tujunga Avenue 91605', '9225 S Aviation Blvd 90045',\n",
       "       '8900 N De Soto Ave Building 91304',\n",
       "       '9727 N Laurel Canyon Blvd 91331', '5644 W Manchester Ave 90045',\n",
       "       '641 W Redondo Beach Blvd 90247', '11240 N Tampa Ave 91326',\n",
       "       '9007 N Woodman Ave 91402', '1822 W James M Wood Blvd 90066',\n",
       "       '3000 S Hoover St 90007', '6245 West 87th St 90045',\n",
       "       '18010 W Chatsworth St 1-6 91344', '17401 W Ventura Blvd 91316',\n",
       "       '538-542 E Rose Ave 90291', '1411 N Highland Ave 90028',\n",
       "       '1307 W Sepulveda Blvd 90501', '5807 S Avalon Blvd 90011',\n",
       "       '10220 N Norris Ave 91331', '4391 N Lankershim Blvd 91601',\n",
       "       '3342 N Verdugo Road 90065', '900 North Broadway 90012',\n",
       "       '2139 S Los Angeles St 90011', '9940 Remmett Avenue',\n",
       "       '9950 Remmet Avenue', '9960 Remmet Avenue',\n",
       "       '13770 W Van Nuys Blvd 91331', '7425 S Main St 90003',\n",
       "       '4501 S Broadway 90037', '6232-6256 N Topanga Canyon Blvd 91367',\n",
       "       '6220 N Topanga Canyon Blvd 91367',\n",
       "       '6250 N Topanga Canyon Blvd 91367', '1250 N Main St 90012',\n",
       "       '1427 W Pacific Coast Highway 90710',\n",
       "       '3105 S La Cienega Blvd 90016',\n",
       "       '21701 W Ventura Blvd 91367 Pmt 04089 L840',\n",
       "       '1020 S Fedora St 90066', '9010 N Reseda Blvd 91324',\n",
       "       '1752-1758 E 92Nd St 90002', '1515 W Wilshire Blvd 90017',\n",
       "       '2590 Earvia St 90031', '1999 S Avenue of the Stars 90067',\n",
       "       '11455 N Laurel Canyon Blvd 91340', '13287 N Ralston Ave 91342',\n",
       "       '2018 N Highland Ave 90068 Pmt 03238 L871',\n",
       "       '501 West El Segundo Boulevard 90044 PMT 00407 L875',\n",
       "       '12154 W Mongague St 91331 Pmt 02859 L878',\n",
       "       '6939 N Van Nuys Blvd 91405 Pmt 02907 L881',\n",
       "       '3033 W Wilshire Blvd 90010 Pmt 03617 L890',\n",
       "       '1655 N Serrano Ave 1-40 90027 Pmt 00202 L891',\n",
       "       '3243 South La Cienega Boulevard 3.01 90016 PMT 09794 L892',\n",
       "       '20780 W Nordhoff St 91311 Pmt 01927 L899',\n",
       "       '333 South Figueroa Street 90071 PMT 01498 L900',\n",
       "       '8888 W Venice Blvd 90034 PMT 23583 L903',\n",
       "       '3640 W Wilshire Blvd 90010 PMT 01719 M915',\n",
       "       '4801 West Venice Boulevard 90019 PMT 00470 M920',\n",
       "       '3273 W Casitas Ave 90039 PMT 01824 M929',\n",
       "       '7435 N Valjean Ave 91406 PMT 03213 M938', 'Reserve',\n",
       "       '41st Year Timeless Reprogramming Projects',\n",
       "       'Slum Blight Area Documentation',\n",
       "       'CD8 Sidewalk Reconstruction - 37th Year',\n",
       "       'LACC Private Operator Account', 'LACC Private Operator Reserve',\n",
       "       'Miscellaneous Sources Fund', 'State Disaster Assistance',\n",
       "       'Stormwater Pollution Abatement Fund',\n",
       "       'Appropriation to Public Works Engineering Sesimic Bond',\n",
       "       'Department of Water and Power / Power',\n",
       "       'Department of Water and Power / Water',\n",
       "       'Appropriation to Convention Center',\n",
       "       'Appropriation to Cultural Affairs Department',\n",
       "       'El Pueblo Parking Automation Project',\n",
       "       'SPA - Miscellaneous Operational Expenses', 'SPA - Equipment',\n",
       "       'SPA - Travel & Training', 'Computer-Aided Dispatch System',\n",
       "       'Affordable Housing Trust', 'Home Ownership Reprogrammed',\n",
       "       'Historical Preservation', 'Environmental Consultant',\n",
       "       'Homeless Services for Veterans - GCP',\n",
       "       'Operation Healthy Streets', 'Navigation/Open Door Centers',\n",
       "       'Rapid Rehousing - Veterans', 'Rapid Rehousing',\n",
       "       'Technology Upgrades - Homeless Services',\n",
       "       'Winter Shelter Expansion', 'Housing Source Centers',\n",
       "       'Winter Shelter Program', 'LAHSA Homeless Outreach Services',\n",
       "       'LAHSA Outreach Program Integrated Care System',\n",
       "       'Emergency Shelters and Services - General Fund',\n",
       "       'LAHSA CD15 Homeless Special Services',\n",
       "       'Gladys and San Julian Parks',\n",
       "       'LAHSA HMLS Outreach Partnership Endeavor',\n",
       "       'Public Right of Way Cleanup Regional Storage',\n",
       "       'Skid Row - Emergency Response Teams', 'CRA Tax Increment 06-07',\n",
       "       'Case Management Tracking System',\n",
       "       'Project Sponsor Administration', 'HOPWA Subsidy Assistance',\n",
       "       'Saving - HOPWA Subsidy Assistance',\n",
       "       'Saving - HOPWA Support Services', 'Savings - HOPWA Sponsor Adm',\n",
       "       'Savings-HOPWA-STRMU', 'HOPWA Support Services',\n",
       "       'HOPWA Technical Assistance', 'HOPWA Reserve',\n",
       "       'Savings-HOPWA-TECHNICAL ASSISTANCE',\n",
       "       'HOPWA Permanent Supportive Housing Program',\n",
       "       'HOPWA Information Services', 'HOPWA HMIS Development',\n",
       "       'Savings-HOPWA Permanent Housing Placement',\n",
       "       'Savings-HOPWA Information Services',\n",
       "       'ATP Cycle I SRTS Bike/Ped Rehabilitation',\n",
       "       'Sidewalk Engineering Consulting Services',\n",
       "       'Expo Bike Path Phase II Northvale Segment',\n",
       "       'Bike Path Maintenance & Refurbishment',\n",
       "       'Los Angeles River Bikeway', 'Bicycle Parking',\n",
       "       'San Fernando Rd Bike Path', 'Bicycle Commuter Assistance',\n",
       "       'Bicycle Fac Support Material', 'Bicycle Printing',\n",
       "       'San Fernando Road Bike Path Phase 2',\n",
       "       'Bicycle Facilities Support Material',\n",
       "       'Project Tech Support Bikeways', 'Bicycle Cycle Track',\n",
       "       'Bikeways Program', 'Bike Lane Program - Citywide',\n",
       "       'Speed Hump Program', 'LA River Bikeway / Valley Gap',\n",
       "       'Alley Paving', 'Concrete Streets', 'Street Reconstruction',\n",
       "       'Traffic Surveys', 'Street Reconstruction - 15% VZ - M',\n",
       "       'Vision Zero Corridor Projects - M', 'Vision Zero Education',\n",
       "       'VZ Contracts, Speed Surveys, Outreach',\n",
       "       'Los Angeles Neighborhood Initiative',\n",
       "       'Vision Zero Contracts, Speed Surveys, Outreach Campaign',\n",
       "       'Safetea Lu Program Shortfall', 'Downtown LA Street Car Project',\n",
       "       'Implementation of Bicycle and Pedestrian Projects',\n",
       "       'Bicycle Plan/Program - Bike Grate Replacement Project',\n",
       "       'Pacific Bridge over Ballona Creek',\n",
       "       '2nd Street Retaining Wall (420 W. 2nd)',\n",
       "       'Montecito Retaining Wall Replacement Phase 4 (1039 Montecito',\n",
       "       'Sherman Way Tunnel Under Van Nuys Airport',\n",
       "       'Stairway and Walkway Lighting Unit 7',\n",
       "       'Broadway Streetscape Project',\n",
       "       'Grant Reimbursements to General Fund', 'Via De Las Olas',\n",
       "       'Special Gas Tax St Improv',\n",
       "       'Sustainable Transportation Initiatives',\n",
       "       'Electric Vehicle Carshare Program',\n",
       "       'Carshare Bikeshare Professional Services',\n",
       "       'DP Rosen Residual Reciepts Policy Analysis',\n",
       "       'Coalition for Economic Survival', 'WY Vernwood Economic Analysis',\n",
       "       'Neighborhood Council Fund',\n",
       "       'Department on Disability Compliance Officers',\n",
       "       'Wilmington Neighborhood Council',\n",
       "       'Coastal San Pedro Neighborhood Council',\n",
       "       'Glassell Park Neighborhood Council',\n",
       "       'Granada Hills North Neighborhood Council',\n",
       "       'Westchester Playa Del Rey Neighborhood Council',\n",
       "       'West Hills Neighborhood Council', 'Westside Neighborhood Council',\n",
       "       'West Adams Neighborhood Council', 'Mid City Neighborhood Council',\n",
       "       'Central San Pedro Neighborhood Council',\n",
       "       'Northwest San Pedro Neighborhood Council',\n",
       "       'Venice Neighborhood Council', 'Empowerment Congress Central',\n",
       "       'Empowerment Congress Southwest',\n",
       "       'Empowerment Congress Southwest St',\n",
       "       'Empowerment Congress North Neighborhood Council',\n",
       "       'Empowerment Congress West Area',\n",
       "       'Woodland Hills-Warner Center Neighborhood Council',\n",
       "       'Harbor City Neighborhood Council',\n",
       "       'Sun Valley Area Neighborhood Council',\n",
       "       'Pacoima Neighborhood Council', 'Eagle Rock Neighborhood Council',\n",
       "       'Downtown Los Angeles Neighborhood Council',\n",
       "       'Hollywood Hills - West Neighborhood Council',\n",
       "       'Central Hollywood Neighborhood Council',\n",
       "       'Mid City West Neighborhood Council', 'United Neighborhoods',\n",
       "       'Park Mesa Heights Community Council',\n",
       "       'Boyle Heights Neighborhood Council',\n",
       "       'Greater Echo Park Elysian Neighborhood Council',\n",
       "       'Arroyo Seco Neighborhood Council',\n",
       "       'Lincoln Heights Neighborhood Council',\n",
       "       'Pico Neighborhood Council',\n",
       "       'Historic Highland Park Neighborhood Council',\n",
       "       'Historic Cultural Neighborhood Council',\n",
       "       'South Robertson Neighborhood Council',\n",
       "       'LA-32 Neighborhood Council', 'Canoga Park Neighborhood Council',\n",
       "       'Greater Griffith Park Neighborhood Council',\n",
       "       'Mar Vista Community Council', 'Van Nuys Neighborhood Council',\n",
       "       'Bel Air-Beverly Crest Neighborhood Council',\n",
       "       'Greater Valley Glen Comm Neighborhood Council',\n",
       "       'Elysian Valley Riverside Neighborhood Council',\n",
       "       'Greater Toluca Lake Neighborhood Council',\n",
       "       'North Hollywood North East Neighborhood Council',\n",
       "       'Mid-Town North Hollywood Neighborhood Council',\n",
       "       'Valley Village Neighborhood Council', 'Encino Community Council',\n",
       "       'Studio City Neighborhood Council',\n",
       "       'Harbor Gateway North Neighborhood Council',\n",
       "       'Arleta Neighborhood Council', 'Watts Neighborhood Council',\n",
       "       'Greater Cypress Park Neighborhood Council',\n",
       "       'Hollywood United Neighborhood Council',\n",
       "       'Sherman Oaks Neighborhood Council',\n",
       "       'Tarzana Neighborhood Council', 'Atwater Village',\n",
       "       'Silver Lake Neighborhood Council',\n",
       "       'North Hills West Neighborhood Council',\n",
       "       'Canndu Neighborhood Council', 'Foothill Trails District',\n",
       "       'Harbor Gateway South Neighborhood Council',\n",
       "       'Chatsworth Neighborhood Council',\n",
       "       'Sunland-Tujunga Neighborhood Council',\n",
       "       'Sylmar Neighborhood Council',\n",
       "       'Macarthur Park Neighborhood Council',\n",
       "       'Southeast/Central Avenue Neighborhood Council',\n",
       "       'Pico Union Neighborhood Council', 'Winnetka Neighborhood Council',\n",
       "       'Wilshire Center-Koreatown Neighborhood Council',\n",
       "       'Porter Ranch Neighborhood Council',\n",
       "       'Del Rey Neighborhood Council',\n",
       "       'West Los Angeles Neighborhood Council', 'Central Alameda',\n",
       "       'Olympic Park Neighborhood Council',\n",
       "       'Greater Wilshire Neighborhood Council',\n",
       "       'Lake Balboa Neighborhood Council',\n",
       "       'Northridge West Neighborhood Council',\n",
       "       'Northridge East Neighborhood Council',\n",
       "       'Palms Neighborhood Council', 'Mission Hills Neighborhood Council',\n",
       "       'Granada Hills South Neighborhood Council',\n",
       "       'Hollywood Studio District Neighborhood Council',\n",
       "       'Panorama City Neighborhood Council',\n",
       "       'East Hollywood Neighborhood Council',\n",
       "       'Rampart Village Neighborhood Council', 'Voices Of 90037',\n",
       "       'Westwood Neighborhood Council',\n",
       "       'Northridge South Neighborhood Council',\n",
       "       'North Hollywood West Neighborhood Council',\n",
       "       'Westlake North Neighborhood Council',\n",
       "       'Westlake South Neighborhood Council',\n",
       "       'Zapata King Neighborhood Council', 'CD 5 Palms NC Funding',\n",
       "       'Neighborhood Council Budget Advocacy',\n",
       "       'Empowerment Congress West', 'Empowerment Congress Southeast',\n",
       "       'Empowerment Congress North',\n",
       "       'Council District 4 Real Property Trust',\n",
       "       'Council District 5 Real Property Trust',\n",
       "       'Council District 6 Real Property Trust',\n",
       "       'RAP Facilities Roof Repair',\n",
       "       'CRA/LA Park Properties Due Diligence Costs',\n",
       "       'Westminster Senior Center', 'Green Meadows Bond Project',\n",
       "       'Hansen Dam Baseball Field',\n",
       "       'Chatsworth Park South Remediation Project',\n",
       "       'Project Restore Trust Fund', 'Family Source System',\n",
       "       'CDD Prior Year', \"LA'S Business Source\", \"LA's Business Source\",\n",
       "       'Marlton Square', 'Port Tech Business Incubator', 'Pico Hauser',\n",
       "       'Taylor Yard', 'Dunbar Village Credit Union',\n",
       "       'Lifeway Correction Center', 'Family Source', 'AIDS Prevention',\n",
       "       'CIPA 4', 'Fuego Tech Fire Rangers', 'Cypress Park YFC', 'CIPA 5',\n",
       "       'White Point Nature Preserve', 'Vision Theater',\n",
       "       'Reach for The Top', 'Broadway Streetscape',\n",
       "       'Neighborhood Improvement Fund', 'New Horizons Adult Center',\n",
       "       'Ride On LA', 'LA River Aliso Reseda Loop',\n",
       "       'NLSA Roof Replacement', 'Watts Towers Cultural Crescent',\n",
       "       'Whitsett Fields Park', 'Public Works Bureau of Engineering',\n",
       "       'Board Administration - 40th', 'Section 108 Marlton',\n",
       "       'Valley Economic Development Center Restore LA',\n",
       "       'Clean Tech Incubator', 'VEDC Incubator',\n",
       "       'LAHSA Assistance to Homeless', 'LAHSA Administration',\n",
       "       'Aging Delivery System', 'Sun Valley Street Lighting',\n",
       "       'Healthy Neighborhood Market Network', 'CBDO - Project-Save',\n",
       "       'Homeboy Industries Job Training Development',\n",
       "       'Highland Park Senior Center', 'El Sereno Recreation Center',\n",
       "       'LA Theater Center Fire and Safety Improvements',\n",
       "       'Old Cypress Park Library', 'Sylmar Community Park Improvements',\n",
       "       'South Park Improvements', 'Cypress Park Recreation Center',\n",
       "       'Lincoln Recreational Center', 'Whitsett Sports Field',\n",
       "       'James Slauson Recreation Center', 'Urgent Repair Program',\n",
       "       'Clean Tech Business Incubator', 'Port Tech Los Angeles',\n",
       "       'Bernardi Senior Center Improvements',\n",
       "       'Van Nuys Street Signal Project', 'Van Nuys S Street Lighting',\n",
       "       'Domestic Violence Shelters',\n",
       "       'Family Source Centers - Nonprofit Managed', 'CBDO - Rita Walters',\n",
       "       'Step Up Vine', 'Handyworker', 'LAHSA Technical Assistance',\n",
       "       'Street Tree Planting and Maintenance',\n",
       "       'Street Reconstruction - 15% VZ - SB1',\n",
       "       'Vision Zero Traffic Signals',\n",
       "       'Vision Zero Corridor Projects - SB1',\n",
       "       'Vista Del Mar S/O Napoleon St',\n",
       "       'La Cienaga Olympic Boulevard Light System',\n",
       "       'Pico Bl-Alvira St Light System', '8th St - Irolo St Light System',\n",
       "       '3rd St Tunnel - Flower to Hill',\n",
       "       'Erosion Control for Hillside Damage',\n",
       "       'Harding Street Bridge Rock Slope Protection',\n",
       "       'Intersection Light Imp Unit 15', 'Hillcrest Dr Landslide Repair',\n",
       "       '3rd St Tunnel-Flower-Hill U1&2',\n",
       "       'Grand Canal West Bank Erosion Control',\n",
       "       'Hillcrest Drive Landslide Repair',\n",
       "       'Laurel Cyn Bl Drainage Repair @ Laurel Cyn Pl',\n",
       "       'Sunset Bl Near Coronado Terrace Phase I',\n",
       "       'Wilshire Resurfacing, San Vicente To Western',\n",
       "       'Sepulveda Tunnel Maintenance Program',\n",
       "       'General Benefit Lighting Led Conversion',\n",
       "       'Berm Repair and Replacement Program',\n",
       "       'Grandview Drive S/O 8417 Bulkhead Extension',\n",
       "       'General Benefit Lighting Led Conversion Unit 2',\n",
       "       'Sherman Way Tunnel Pump Ventilation Repair',\n",
       "       '2nd Street Tunnel Ventilation Project',\n",
       "       '3rd Street Tunnel Ventilation',\n",
       "       'Paseo Del Mar at Whitepoint Landslide', 'Asilomar Blvd Landslide',\n",
       "       'Grand View Drive Bulkhead', 'Lavell Drive Bulkhead Replacement',\n",
       "       'Lecco Lane Bulkhead Replacement',\n",
       "       'Mulholland Drive Washout Repair',\n",
       "       'Sanborn Avenue Retaining Wall Replacement',\n",
       "       '1st Street Bridge Noise and Vibration Study',\n",
       "       'Pacific View Drive Bulkhead',\n",
       "       'Transportation Striping and Mark Out Equipment',\n",
       "       'Hancock Park Intersection Repair',\n",
       "       'Mar Vista Curb and Gutter Assessment',\n",
       "       '2nd Street Tunnel Safety Maintenance and Cleaning Program',\n",
       "       'Angelo Drive Slope Stabilization', 'Barstow Street Bulkhead',\n",
       "       'Main Street Lighting Improvement Unit1', '412 Paseo Miramar',\n",
       "       'Holly Drive 2348 On-Slope Rockfall Mitigation',\n",
       "       '911 Telephony System', '2015 Refunding Escrow Deposit',\n",
       "       'Payment for Sewer Construction Maintenance Fund Loan',\n",
       "       'Maintenance Hole Resetting', '25th Street At San Ramon Canyon',\n",
       "       'Lakme Avenue Storm Drain', 'Payment for Reserve Fund Loan',\n",
       "       'University Park Neighborhood Rain Garden',\n",
       "       'Laurel Cyn Bl Green St Project', 'Hollenbeck Park',\n",
       "       'Ballona Creek Water Quality Improvements',\n",
       "       'Avalon Green Alley North: LID Demonstration Project Phase II',\n",
       "       'Waring Avenue Strom Drain Improvement',\n",
       "       'Energy Conservation Assistance Loan Repayment',\n",
       "       'Energy and Maintenance', 'Assessment District Analysis',\n",
       "       'High Voltage Interface Program', 'Reserve - AT&T PEG Access',\n",
       "       'Wilshire Grand Hotel Project Trust Fund',\n",
       "       'RELATED COSTS-CONTROLLER', 'Construction Placement Training',\n",
       "       'WIOA Adult', 'WIOA Dislocated Worker', 'WIOA Youth',\n",
       "       'WIOA Adult Supporting Program Activities',\n",
       "       'WIOA Dislocated Worker Supporting Program Activities',\n",
       "       'WIOA Youth Supporting Program Activities',\n",
       "       'WIOA Rapid Response Supporting Activities',\n",
       "       'Institutional Supplies',\n",
       "       'Downtown LA Streetcar Operations and Maintenance',\n",
       "       'CNG Bus Inspection and Maintenance Facility',\n",
       "       'Ride and Field Checks', 'Vision Zero Bus Stop Security Lighting',\n",
       "       'Eco Rapid Transit JPA', 'Bike Racks for DASH Buses',\n",
       "       'Pavement Preservation Equipment', 'Expo Bikepath Phase 2 Match',\n",
       "       'Blossom Plaza Easements and Improvements',\n",
       "       'General Services - Related Cost', 'Pico-Robertson Parking',\n",
       "       'Reserve for Mid-Year Adjustments -  Contingent Revenues',\n",
       "       'Reserve for Extraordinary Liability',\n",
       "       'DASH Services Expansion - Phase 2',\n",
       "       'Gang Injunction Settlement Agreement',\n",
       "       'Fire Boat Maintenance and Repairs',\n",
       "       'Accessible Housing Program Retrofit Contracts',\n",
       "       'Fire Technology Upgrades',\n",
       "       'Alternative Dispute Resolution Program',\n",
       "       'U.S. Economic Development Administration Grant Obligation',\n",
       "       'Fire Engine Company Restoration', 'Short-Term Rental Enforcement',\n",
       "       'LA Regional Initiative Social Enterprise (LA RISE)',\n",
       "       'Firefighter Escape Bailout System',\n",
       "       'Voice Over Internet Protocol (VoIP) Telephone Systems',\n",
       "       'Minimum Wage and Wage Theft Enforcement Program',\n",
       "       'Fire Advanced Provider Response Unit - LAWA',\n",
       "       'Fire Advanced Provider Response Unit - San Fernando Valley',\n",
       "       'LATAX Replacement Project',\n",
       "       'Historic Preservation Overlay Zone Program Support',\n",
       "       'Fire Position Control Officer',\n",
       "       'Commission on Revenue Generation',\n",
       "       'Measure M Fund Administration', 'Tree Trimming and Alleys',\n",
       "       'November 2016 General Election Costs',\n",
       "       'Fire Department Shortfalls', '2016-17 Budgetary Shortfalls',\n",
       "       'Soft Story Retrofit Program',\n",
       "       'Public Works Trust Fund Nexus Study',\n",
       "       'Seismic Retrofit Hearing Officer Services',\n",
       "       'Trash Receptacle Program Expansion',\n",
       "       'Network Hardware Replacement', 'Community Engagement',\n",
       "       'Capital Projects', 'Purposeful Aging', 'Project Restore',\n",
       "       'Basic Car Area Boundary Study', 'Wildlife Open Space Study',\n",
       "       'Loan to Stormwater Pollution Abatement Fund (Schedule 7)',\n",
       "       'Sewer O&M Transfer', 'Sewer Capital Fund Transfer',\n",
       "       'Debt Service Fund Transfer', 'Atf Ecis - Mission and Jesse',\n",
       "       'LCIS Rehab Jefferson La Cien', 'SSRP C01a Calif and Abbott Kinn',\n",
       "       'COS 59th St and Fourth Ave', 'Pierce and Woodman Diver SWR',\n",
       "       'HTP Substation Separation', 'HTP Preg Buil First Fl Modif',\n",
       "       'HTP Truck Load Odor Cntl Mod', 'HSH Digester Exp',\n",
       "       'HTP G St Pipe Rack Strct Rehab', 'HTP EPP Header Replacement',\n",
       "       'HTP Headworks Improvements', 'Lag Ndn Blower Procurement',\n",
       "       'Lag Tertiary Filter Repl', 'Venice Pp Dual force Main',\n",
       "       'Venice Pp Discharge Manifold Repl',\n",
       "       'TIWRP AWPF MF Sys Package Proc', 'DCT Aeration Tanks Rehab',\n",
       "       'NOS Rehab HTP to Siphon', 'NEIS Phase 1',\n",
       "       'Eagle Rock Inter Sewer', 'Lag Nitrogen Removal Conv',\n",
       "       'DCT Nitrogen Rem Conversion', 'COS Rehab to Market St',\n",
       "       'Slauson Compton Swr Rehab', 'SSRP H11 Burnside and Wilshire',\n",
       "       'Wlais Rehab Overland To Kelton', 'SSRP S08 Main & Manchester',\n",
       "       'NOS Rehab U2 Western to Vermot', 'NOS Rehab U5 San Pedro Hooper',\n",
       "       'SSRP H06 Adams and Crenshaw', 'SSRP N03 Adams Boulevard',\n",
       "       'SSRP N06A 36th Place and Vermont', 'SSRP N06B Adams and Hill',\n",
       "       'SSRP S14 Hoover and Vernon', 'HTP Ww Control System Repl',\n",
       "       'HTP Dig Gas Desulf Fac Impr', 'HTP Hdwks Grit Class Reloc',\n",
       "       'HTP Dgup Cooling Water Sys', 'HTP Flares System Upgrade',\n",
       "       'HTP Primary Influent Gates Repl',\n",
       "       'HTP Sec Clarif Stru Rehab Ph I', 'HTP DGUP Facility',\n",
       "       'HTP Cryogenic System Modification', 'HTP Hdwks Grit Handl Improv',\n",
       "       'HTP IPS Screw Pumps Rehab', 'HTP Desulf Fac Instr Replace',\n",
       "       'HTP Preg Build Fire Alarm Replace',\n",
       "       'HTP IPS Screw Pumps Procurement', 'HTP Aerated Basin Grit',\n",
       "       'HTP SWF Emergency Generator', 'Lag Ndn Blower Installation',\n",
       "       'Lag Pond Membrane Liner', 'Hortense Irvine Avenue Modern Light',\n",
       "       'Collection System Scada UPG', 'TIWRP Headworks Improvements',\n",
       "       'TIWRP Final Clarifiers Rehab', 'TIWRP Tertiary Filter Rehab',\n",
       "       'TIWRP Blower Procurement', 'DCT Electrical Vault Rehab',\n",
       "       'DCT Screw Pumps Procurement',\n",
       "       'Sanitation Expense & Equip - Project',\n",
       "       'Sanitation-Operation Related', 'Costs Of Issuance - CP B',\n",
       "       'Upper Beachwood Easemnt Mh Add', 'Emergency Sewer Replacement',\n",
       "       'Humboldt Drp Struct Air Damper', 'Arlington Jefferson Dvrsn Sur',\n",
       "       'Odor Control - MLK and Rodeo Upgrd',\n",
       "       'Odor Control - NORS/ECIS Upgrade',\n",
       "       'Odor Control - Radford Update', 'Odor Control - Genesee Update',\n",
       "       'Castellammare Drive Property', 'HTP Capital Eqp Replc Prog',\n",
       "       'HTP Capital Utility Replc Prog', 'HTP Prim Sludge Centrifuge Ins',\n",
       "       'HTP Dig Gas Comp Fac', 'HTP Screening Handling Impr',\n",
       "       'HTP Trailer Mounted Boiler',\n",
       "       'HTP Fog Receiving Station Expansion',\n",
       "       'HTP SWF South Cloth Fil Inst', 'HTP Hdwks Sluiceway Repl',\n",
       "       'HTP Main Switch Dgup Autosyn', 'HTP Module 8 Ras Valve Repl',\n",
       "       'Lag Capital Equip Repl Prog', 'PP 677 Hawaiian and B Rehab',\n",
       "       'Wastewater Sys Financial Cnslt', 'Construction Services Contract',\n",
       "       'WW Network Servers Cerp', 'Emd Lims Replacement',\n",
       "       'WW Planning and Design Services', 'WW Services During Const',\n",
       "       'Wisard Migration Project', 'Manchester Greenway Sep',\n",
       "       'Old Oak Rd Bio-Swale Bmp Sep', 'Empac System Replacement',\n",
       "       'Laboratory Equipment Proc', 'SMURRF',\n",
       "       'TIWRP WW Control System Repl', 'TIWRP Blower Ctrl Sys Upgrade',\n",
       "       'TIWRP AWPF Prod Water Stabiliz', 'TIWRP Capital Eqp Replc',\n",
       "       'TIWRP AWTF Ultimate Expansion', 'TIWRP Dcs Server Room',\n",
       "       'DCT Capital Eqp Replc Prog'], dtype=object)"
      ]
     },
     "execution_count": 85,
     "metadata": {},
     "output_type": "execute_result"
    }
   ],
   "source": [
    "ea"
   ]
  },
  {
   "cell_type": "markdown",
   "metadata": {},
   "source": [
    "Not as good results as Random Forest, but it might scale better. With a smaller dataset I might use svm, but becasue we have around 80% of the data already filled and 20% not filled, I'm leaning towards the random forest\n",
    "\n",
    "Also, SVM performs worse given the program name and ID, because it probably just adds unneccessary complexity towards the fitting."
   ]
  },
  {
   "cell_type": "markdown",
   "metadata": {},
   "source": [
    "# TRY SOME WORD2VEC STUFF\n",
    "\n",
    "A major idea in NLP is the idea that word can be encoded into a vector space. Something interesting about this vector space, however, is that the difference in values (i.e. distance) between similar words and phrases will be smaller than the difference in values between dissimilar words. I'm going to try to leverage these encodings to see if there is a greater theme in either program priority or program names and the expense types"
   ]
  },
  {
   "cell_type": "code",
   "execution_count": 234,
   "metadata": {
    "collapsed": true
   },
   "outputs": [],
   "source": [
    "import gensim\n",
    "from gensim.models import word2vec\n",
    "import logging, urllib.request, zipfile"
   ]
  },
  {
   "cell_type": "markdown",
   "metadata": {},
   "source": [
    "Download and load training data"
   ]
  },
  {
   "cell_type": "markdown",
   "metadata": {},
   "source": [
    "# Train Gensim\n",
    "\n",
    "We have to first train Gensim on data in order to load the word2vec of our data. These are some functions to read the zipfile, extract the zipfile, train gensim, and finally save the model under 'mymodel' so we don't have to retrain every time\n",
    "\n",
    "I did packaged all this into a load_gensim_model function which takes in a root path to search for the data and model. If it finds the model it loads it, otherwise, it reads the data, trains the model, saves the model and returns the model. You can read the code in my utils.py file"
   ]
  },
  {
   "cell_type": "code",
   "execution_count": 38,
   "metadata": {
    "collapsed": false
   },
   "outputs": [],
   "source": [
    "model = load_gensim_model(os.getcwd()+\"/data/\")"
   ]
  },
  {
   "cell_type": "markdown",
   "metadata": {},
   "source": [
    "Since gensim only allows for word2vec, I need to make a module that can read a string of words and return the average of all the vectors\n",
    "\n",
    "I then have another function that applies this sentence2vec function to an entire column of a pandas dataframe."
   ]
  },
  {
   "cell_type": "code",
   "execution_count": 40,
   "metadata": {
    "collapsed": false
   },
   "outputs": [],
   "source": [
    "dim = 300\n",
    "\n",
    "def sentence2vec(words):\n",
    "    \"\"\"\n",
    "    Module that converts takes in a string \n",
    "    with multiple words, takes the word2vec\n",
    "    of each word, and then averages them all\n",
    "    to get a sentence to vec\n",
    "    \n",
    "    For this dataset, no tf-idf is needed\n",
    "    because no word appears twice in a single sentance\n",
    "    \"\"\"\n",
    "    \n",
    "    avg_vec = np.array([\n",
    "                    np.mean([model.wv[w] for w in words.split() if w in model.wv]\n",
    "                            or [np.zeros(dim)], axis=0)\n",
    "                ]).reshape([300])\n",
    "    return avg_vec\n",
    "\n",
    "\n",
    "def get_vector_column(column_name, keys, df):\n",
    "    \n",
    "    vector_keys = []\n",
    "    \n",
    "    for key in keys:\n",
    "\n",
    "        vector_keys.append(sentence2vec(key))\n",
    "    \n",
    "    col = np.zeros( [df.shape[0], 300] )\n",
    "    \n",
    "    for i, key in enumerate(keys):\n",
    "        index = df[column_name] == key\n",
    "        \n",
    "        index = index.values.reshape([df.shape[0], 1])\n",
    "        \n",
    "        \n",
    "        index = np.repeat(index, 300, axis=1)\n",
    "        \n",
    "        np.place(col, index, vector_keys[i])\n",
    "        \n",
    "    return col\n",
    "\n",
    "\n",
    "    "
   ]
  },
  {
   "cell_type": "markdown",
   "metadata": {},
   "source": [
    "# More Data Preparations\n",
    "\n",
    "Now, I want to prepare training data for a deep learning approach. My plan is to have 2 different models to train. 1 that only accepts the guaranteed information i.e. the department and the appropriation and tries to predict the expense type. Another that takes in the department, appropriation and the sentence vector describing the department. I have 2 functions below used to build up the corresponding datasets."
   ]
  },
  {
   "cell_type": "code",
   "execution_count": 466,
   "metadata": {
    "collapsed": false
   },
   "outputs": [
    {
     "name": "stderr",
     "output_type": "stream",
     "text": [
      "/home/kian/anaconda3/lib/python3.5/site-packages/ipykernel/__main__.py:15: DeprecationWarning: Call to deprecated `wv` (Attribute will be removed in 4.0.0, use self instead).\n"
     ]
    }
   ],
   "source": [
    "from sklearn.preprocessing import LabelEncoder, OneHotEncoder\n",
    "    \n",
    "def one_hot_Y(Y):\n",
    "    \n",
    "    label_encoder = LabelEncoder()\n",
    "    integer_encoded = label_encoder.fit_transform(Y)\n",
    "    \n",
    "    onehot_encoder = OneHotEncoder(sparse=False)\n",
    "    integer_encoded = integer_encoded.reshape(len(integer_encoded), 1)\n",
    "    onehot_encoded = onehot_encoder.fit_transform(integer_encoded)\n",
    "    \n",
    "    return onehot_encoded, label_encoder\n",
    "    \n",
    "def build_train_set(df, columns):\n",
    "    \n",
    "    name_vectors = get_vector_column(\"Account_Name\", programs, df)\n",
    "    \n",
    "    X_data = df[columns].values\n",
    "    \n",
    "    Y = df[\"Expense_Type\"].values\n",
    "    \n",
    "    Y, decoder = one_hot_Y(Y)\n",
    "    \n",
    "    return name_vectors, X_data, Y, decoder\n",
    "\n",
    "\n",
    "name_vectors, train_data, Y, decoder = build_train_set(full_data, guaranteed)"
   ]
  },
  {
   "cell_type": "markdown",
   "metadata": {},
   "source": [
    "# Time Set up the Models"
   ]
  },
  {
   "cell_type": "code",
   "execution_count": 42,
   "metadata": {
    "collapsed": false
   },
   "outputs": [
    {
     "name": "stderr",
     "output_type": "stream",
     "text": [
      "/home/kian/anaconda3/lib/python3.5/site-packages/h5py/__init__.py:36: FutureWarning: Conversion of the second argument of issubdtype from `float` to `np.floating` is deprecated. In future, it will be treated as `np.float64 == np.dtype(float).type`.\n",
      "  from ._conv import register_converters as _register_converters\n",
      "Using TensorFlow backend.\n"
     ]
    }
   ],
   "source": [
    "from keras.models import Sequential, Model\n",
    "from keras.layers import Dense, Input, Concatenate\n"
   ]
  },
  {
   "cell_type": "markdown",
   "metadata": {},
   "source": [
    "# Start Slow\n",
    "\n",
    "First I'm going to start out with a basic model that only accepts the guaranteed information. This will provide a good baseline for future models "
   ]
  },
  {
   "cell_type": "code",
   "execution_count": 52,
   "metadata": {
    "collapsed": false
   },
   "outputs": [
    {
     "name": "stdout",
     "output_type": "stream",
     "text": [
      "Epoch 1/3\n",
      "14243/14243 [==============================] - 1s 62us/step - loss: 7.8248 - acc: 0.4792\n",
      "Epoch 2/3\n",
      "14243/14243 [==============================] - 1s 57us/step - loss: 7.7219 - acc: 0.4794\n",
      "Epoch 3/3\n",
      "14243/14243 [==============================] - 1s 53us/step - loss: 7.6174 - acc: 0.4866\n"
     ]
    },
    {
     "data": {
      "text/plain": [
       "<keras.callbacks.History at 0x7f2b1e8d9c88>"
      ]
     },
     "execution_count": 52,
     "metadata": {},
     "output_type": "execute_result"
    }
   ],
   "source": [
    "basic_model = Sequential()\n",
    "\n",
    "in_shape = (3,)\n",
    "\n",
    "basic_model.add(Dense(128, input_shape=in_shape, activation='relu' ))\n",
    "basic_model.add(Dense(256, activation='relu'))\n",
    "basic_model.add(Dense(len(expenses), activation='softmax'))\n",
    "\n",
    "basic_model.compile(optimizer='rmsprop',\n",
    "              loss='categorical_crossentropy',\n",
    "              metrics=['accuracy'])\n",
    "\n",
    "basic_model.fit(train_data, Y, epochs=3)"
   ]
  },
  {
   "cell_type": "markdown",
   "metadata": {},
   "source": [
    "# Takeaway\n",
    "\n",
    "So unsurprisingly, the model can't even fit the training set much above 50%, much less a test set. I don't see much gain by hyper-parameter tinkering at this point. I think the route to take with the only guaranteed data filling in is just using the random forest. Now I'm gonna try out the non-guaranteed data sentance encoding to see if it helps much. I don't have great hopes, but it's worth a try :)"
   ]
  },
  {
   "cell_type": "code",
   "execution_count": 468,
   "metadata": {
    "collapsed": true
   },
   "outputs": [],
   "source": [
    "big_X = np.concatenate([train_data, name_vectors], axis=1)\n",
    "\n",
    "bigger_model = Sequential()\n",
    "\n",
    "in_shape = (303,)\n",
    "\n",
    "bigger_model.add(Dense(128, input_shape=in_shape, activation='relu' ))\n",
    "bigger_model.add(Dense(256, activation='relu'))\n",
    "bigger_model.add(Dense(len(expenses), activation='softmax'))\n",
    "\n",
    "bigger_model.compile(optimizer='rmsprop',\n",
    "              loss='categorical_crossentropy',\n",
    "              metrics=['accuracy'])"
   ]
  },
  {
   "cell_type": "code",
   "execution_count": 58,
   "metadata": {
    "collapsed": false
   },
   "outputs": [
    {
     "name": "stdout",
     "output_type": "stream",
     "text": [
      "Epoch 1/10\n",
      "14243/14243 [==============================] - 1s 76us/step - loss: 1.0965 - acc: 0.5419\n",
      "Epoch 2/10\n",
      "14243/14243 [==============================] - 1s 76us/step - loss: 1.0466 - acc: 0.5469\n",
      "Epoch 3/10\n",
      "14243/14243 [==============================] - 1s 76us/step - loss: 1.0641 - acc: 0.5508\n",
      "Epoch 4/10\n",
      "14243/14243 [==============================] - 1s 77us/step - loss: 1.0414 - acc: 0.5595\n",
      "Epoch 5/10\n",
      "14243/14243 [==============================] - 1s 77us/step - loss: 1.1108 - acc: 0.5574\n",
      "Epoch 6/10\n",
      "14243/14243 [==============================] - 1s 77us/step - loss: 1.1610 - acc: 0.5573\n",
      "Epoch 7/10\n",
      "14243/14243 [==============================] - 1s 79us/step - loss: 1.0961 - acc: 0.5632\n",
      "Epoch 8/10\n",
      "14243/14243 [==============================] - 1s 79us/step - loss: 1.1869 - acc: 0.5608\n",
      "Epoch 9/10\n",
      "14243/14243 [==============================] - 1s 79us/step - loss: 1.2386 - acc: 0.5627\n",
      "Epoch 10/10\n",
      "14243/14243 [==============================] - 1s 79us/step - loss: 1.1636 - acc: 0.5587\n"
     ]
    },
    {
     "data": {
      "text/plain": [
       "<keras.callbacks.History at 0x7f2b1e256c50>"
      ]
     },
     "execution_count": 58,
     "metadata": {},
     "output_type": "execute_result"
    }
   ],
   "source": [
    "bigger_model.fit(big_X, Y, epochs = 10)"
   ]
  },
  {
   "cell_type": "markdown",
   "metadata": {},
   "source": [
    "# Last DL Effort\n",
    "\n",
    "So the last few efforts didn't go very well, so I'm gonna try 1 more task. I'm gonna try to run the word encodings through a FC encoder, then concatenate that with the other data, and then make a prediction\n",
    "\n",
    "But, given the small sample size and wide variety of uncorrelated inputs, I didn't think this was a problem well suited for deep learning. I was more interested in whether the vectorization of the sentences would show any improvements over the baseline but it did not seem to"
   ]
  },
  {
   "cell_type": "code",
   "execution_count": 76,
   "metadata": {
    "collapsed": false
   },
   "outputs": [],
   "source": [
    "vec = Input(shape=(300,))\n",
    "\n",
    "enc1 = Dense(128, activation='relu')(vec)\n",
    "enc2 = Dense(64, activation='relu')(enc1)\n",
    "enc3 = Dense(5, activation='relu')(enc2)\n",
    "\n",
    "data = Input(shape=(3,))\n",
    "\n",
    "full_data = Concatenate()([vec, data])\n",
    "\n",
    "fc1 = Dense(64, activation='relu')(full_data)\n",
    "fc2 = Dense(128, activation='relu')(fc1)\n",
    "output = Dense(len(expenses), activation='softmax')(fc2)\n",
    "\n",
    "final_model = Model([vec, data], output)\n",
    "\n",
    "final_model.compile(optimizer='rmsprop',\n",
    "              loss='categorical_crossentropy',\n",
    "              metrics=['accuracy'])\n"
   ]
  },
  {
   "cell_type": "code",
   "execution_count": 86,
   "metadata": {
    "collapsed": false
   },
   "outputs": [
    {
     "name": "stdout",
     "output_type": "stream",
     "text": [
      "Epoch 1/10\n",
      "14243/14243 [==============================] - 1s 55us/step - loss: 0.9880 - acc: 0.5496\n",
      "Epoch 2/10\n",
      "14243/14243 [==============================] - 1s 53us/step - loss: 1.0026 - acc: 0.5467\n",
      "Epoch 3/10\n",
      "14243/14243 [==============================] - 1s 53us/step - loss: 1.0054 - acc: 0.5495\n",
      "Epoch 4/10\n",
      "14243/14243 [==============================] - 1s 53us/step - loss: 0.9893 - acc: 0.5562\n",
      "Epoch 5/10\n",
      "14243/14243 [==============================] - 1s 55us/step - loss: 1.0311 - acc: 0.5621\n",
      "Epoch 6/10\n",
      "14243/14243 [==============================] - 1s 54us/step - loss: 1.0386 - acc: 0.5621\n",
      "Epoch 7/10\n",
      "14243/14243 [==============================] - 1s 55us/step - loss: 0.9755 - acc: 0.5536\n",
      "Epoch 8/10\n",
      "14243/14243 [==============================] - 1s 55us/step - loss: 1.0276 - acc: 0.5688\n",
      "Epoch 9/10\n",
      "14243/14243 [==============================] - 1s 55us/step - loss: 1.0043 - acc: 0.5686\n",
      "Epoch 10/10\n",
      "14243/14243 [==============================] - 1s 59us/step - loss: 1.0463 - acc: 0.5625\n"
     ]
    },
    {
     "data": {
      "text/plain": [
       "<keras.callbacks.History at 0x7f2b1d3e2e80>"
      ]
     },
     "execution_count": 86,
     "metadata": {},
     "output_type": "execute_result"
    }
   ],
   "source": [
    "final_model.fit([name_vectors, train_data], Y, epochs=10)"
   ]
  },
  {
   "cell_type": "markdown",
   "metadata": {},
   "source": [
    "# As Expected, Neural Nets are not the way to go\n",
    "\n",
    "There are so many different inputs and there is such little correlation between the various word2vec inputs to the result, DL is not the way to go.\n",
    "\n",
    "I'm going to try some other methods to fit the data they won't have too much fruition"
   ]
  },
  {
   "cell_type": "markdown",
   "metadata": {},
   "source": [
    "Building a cv splitting function for a cross validation set randomly"
   ]
  },
  {
   "cell_type": "code",
   "execution_count": 475,
   "metadata": {
    "collapsed": false
   },
   "outputs": [],
   "source": [
    "def np_cv_split(x, y):\n",
    "    \n",
    "    index = np.random.rand(x.shape[0]) > .5\n",
    "    \n",
    "    train_x = x[index]\n",
    "    train_y = y[index]\n",
    "    \n",
    "    cv_x = x[False == index]\n",
    "    cv_y = y[False == index]\n",
    "    \n",
    "    return train_x, train_y, cv_x, cv_y \n",
    "\n",
    "train_x, train_y, cv_x, cv_y = np_cv_split(big_X, Y)"
   ]
  },
  {
   "cell_type": "markdown",
   "metadata": {},
   "source": [
    "# Try to fit data using SVM\n",
    "\n",
    "I'm not expecting much better results than the Network, but por favor prove me wrong :)"
   ]
  },
  {
   "cell_type": "code",
   "execution_count": 474,
   "metadata": {
    "collapsed": false
   },
   "outputs": [
    {
     "data": {
      "text/plain": [
       "0.6774569166278528"
      ]
     },
     "execution_count": 474,
     "metadata": {},
     "output_type": "execute_result"
    }
   ],
   "source": [
    "\n",
    "\n",
    "svc = svm.SVC()\n",
    "\n",
    "svc.fit(train_x, train_y.argmax(axis=1))\n",
    "\n",
    "svc.score(cv_x, cv_y.argmax(axis=1))"
   ]
  },
  {
   "cell_type": "markdown",
   "metadata": {},
   "source": [
    "# Try RFC\n",
    "\n",
    "I don't think RFC will perform much better than the baseline because of all the extra noise the word2vec data provides. Again- por favor prove me wrong :)"
   ]
  },
  {
   "cell_type": "code",
   "execution_count": 476,
   "metadata": {
    "collapsed": false
   },
   "outputs": [
    {
     "name": "stdout",
     "output_type": "stream",
     "text": [
      " Acc:  0.7137045868985833\n"
     ]
    }
   ],
   "source": [
    "rfc_low = RandomForestClassifier(n_estimators=30)\n",
    "\n",
    "rfc_low.fit(train_x, train_y)\n",
    "score = rfc_low.score(cv_x, cv_y)\n",
    "print(\" Acc: \", score )"
   ]
  },
  {
   "cell_type": "markdown",
   "metadata": {},
   "source": [
    "As I suspected, none of these performed better than the baseline model. I think the reason for this decrease in performance, despite the increase in information, is that the word2vec model, even if it provides some relevent information to the prediction, it provides so much information that these various models, especially ensemble models such as RFC and NNs will be able to find a number of \"correlations\" that are coincidental in our data, and have no actually effect on predicting expense type"
   ]
  },
  {
   "cell_type": "markdown",
   "metadata": {},
   "source": [
    "# N-Grams\n",
    "\n",
    "So, I realized, looking back through the data, I really just wanted to quantify certain keyword phrases. In order to reach this quantification, without bring on all the extra garbage of word2vec, I'm going to instead create a one-hot vectorization of N-grams, in order to detect the presence or abscence of certain key-words or phrases"
   ]
  },
  {
   "cell_type": "markdown",
   "metadata": {},
   "source": [
    "Creating bi-gram data, and concatenating with the guaranteed data"
   ]
  },
  {
   "cell_type": "code",
   "execution_count": 166,
   "metadata": {
    "collapsed": false
   },
   "outputs": [],
   "source": [
    "from sklearn.feature_extraction.text import CountVectorizer\n",
    "\n",
    "account_names = full_data[\"Account_Name\"].tolist()\n",
    "make_ngram = CountVectorizer()\n",
    "\n",
    "n_grams = make_ngram.fit_transform(account_names).toarray()\n",
    "\n",
    "other_data = full_data[guaranteed].as_matrix()\n",
    "\n",
    "X = np.concatenate([other_data, n_grams], axis=1)"
   ]
  },
  {
   "cell_type": "markdown",
   "metadata": {},
   "source": [
    "Creating an index that separates a certain number of entire account names- thus, the account names in our test set will have never appeared in our training set. This will allow us to get an accurate determination as to how it will perform on the new data"
   ]
  },
  {
   "cell_type": "code",
   "execution_count": 173,
   "metadata": {
    "collapsed": false
   },
   "outputs": [],
   "source": [
    "\n",
    "unique = full_data[\"Account_Name\"].unique()\n",
    "\n",
    "index = np.random.rand(unique.shape[0]) > .3\n",
    "\n",
    "training_accounts = set(unique[index])\n",
    "test_accounts = set(unique[False == index])\n",
    "\n",
    "def in_training(x):\n",
    "    return x in training_accounts\n",
    "\n",
    "index = full_data[\"Account_Name\"].apply(in_training)\n",
    "\n",
    "\n",
    "def account_cv_split(x, y, index):\n",
    "    \n",
    "    \n",
    "    train_x = x[index]\n",
    "    train_y = y[index]\n",
    "    \n",
    "    cv_x = x[False == index]\n",
    "    cv_y = y[False == index]\n",
    "    \n",
    "    return train_x, train_y, cv_x, cv_y \n",
    "\n",
    "\n",
    "X_train, Y_train, X_test, Y_test = account_cv_split(X, full_data[\"Expense_Type\"], index)"
   ]
  },
  {
   "cell_type": "markdown",
   "metadata": {},
   "source": [
    "# Visualize To Featurpe Weights\n",
    "\n",
    "Get a list of the feature weights of the best scoring rfc for assessment"
   ]
  },
  {
   "cell_type": "code",
   "execution_count": 174,
   "metadata": {
    "collapsed": false
   },
   "outputs": [],
   "source": [
    "def plot_ngram_rfc(rfc, fignum, acc):\n",
    "\n",
    "    cols = range(303)\n",
    "\n",
    "    features_and_weights = sorted(zip(map(lambda x: round(x, 4), rfc_keep.feature_importances_), cols), \n",
    "                 reverse=True)\n",
    "\n",
    "    important_phrases = []\n",
    "    weights = []\n",
    "\n",
    "    for pair in features_and_weights[0:30]:\n",
    "        one_hot = np.zeros([300])\n",
    "        one_hot[pair[1]-3] = 1\n",
    "        phrase = make_ngram.inverse_transform(one_hot)[0]\n",
    "        phrase = \" \".join(phrase.tolist())\n",
    "\n",
    "        important_phrases.append(phrase)\n",
    "        weights.append(pair[0])\n",
    "\n",
    "\n",
    "    plt.figure(num=fignum, figsize=(10, 8), dpi=80, facecolor='w', edgecolor='k')\n",
    "    plt.title('Acc:'+ str(acc) )\n",
    "    plt.barh(range(len(weights)), weights, color='b', align='center')\n",
    "    plt.yticks(range(len(important_phrases)), important_phrases)\n",
    "    plt.xlabel('Relative Importance')\n"
   ]
  },
  {
   "cell_type": "markdown",
   "metadata": {},
   "source": [
    "# Random Forest Attempt\n",
    "\n",
    "So random forest is gave good results, but also wildly fluctuated based on the random state: in order to combat this inconsistency, I set max features from sqrt to log2, and increased the estimators"
   ]
  },
  {
   "cell_type": "code",
   "execution_count": 170,
   "metadata": {
    "collapsed": false,
    "scrolled": true
   },
   "outputs": [
    {
     "name": "stdout",
     "output_type": "stream",
     "text": [
      "Random State  47 Accuracy:  0.829126213592233\n",
      "Random State  87 Accuracy:  0.8207119741100324\n",
      "Random State  56 Accuracy:  0.8401294498381877\n"
     ]
    },
    {
     "data": {
      "image/png": "[encoded data removed]",
      "text/plain": [
       "<matplotlib.figure.Figure at 0x7ffa79b66f98>"
      ]
     },
     "metadata": {},
     "output_type": "display_data"
    },
    {
     "data": {
      "image/png": "[encoded data removed]",
      "text/plain": [
       "<matplotlib.figure.Figure at 0x7ffa79bf7ef0>"
      ]
     },
     "metadata": {},
     "output_type": "display_data"
    },
    {
     "data": {
      "image/png": "[encoded data removed]",
      "text/plain": [
       "<matplotlib.figure.Figure at 0x7ffa71644be0>"
      ]
     },
     "metadata": {},
     "output_type": "display_data"
    }
   ],
   "source": [
    "from random import random\n",
    "\n",
    "max_accuracy = 0\n",
    "\n",
    "for i in range(3):\n",
    "    \n",
    "    state = int(random()*100) \n",
    "    \n",
    "    rfc = RandomForestClassifier(n_estimators=500, random_state=state, max_features='log2')\n",
    "\n",
    "    rfc.fit(X_train, Y_train)\n",
    "    \n",
    "    acc = rfc.score(X_test, Y_test)\n",
    "    \n",
    "    plot_ngram_rfc(rfc, i, int(100*acc))\n",
    "    \n",
    "    if acc > max_accuracy:\n",
    "        rfc_keep = rfc\n",
    "\n",
    "    print(\"Random State \", state, \"Accuracy: \", acc)\n",
    "    "
   ]
  },
  {
   "cell_type": "markdown",
   "metadata": {},
   "source": [
    "So I'm a little surprised at the importances of some words: not too much at others"
   ]
  },
  {
   "cell_type": "markdown",
   "metadata": {},
   "source": [
    "## Create a training set of only the Important columns\n",
    "\n",
    "There are a number of columns that are barely weighted by the RFC- I'm going to see what happens to accuracy when these columns are removed"
   ]
  },
  {
   "cell_type": "code",
   "execution_count": 171,
   "metadata": {
    "collapsed": false
   },
   "outputs": [],
   "source": [
    "features_and_weights = sorted(zip(map(lambda x: round(x, 4), rfc_keep.feature_importances_), cols), \n",
    "                 reverse=True)\n",
    "\n",
    "useful_feature_cols = []\n",
    "\n",
    "# get col # of all useful features\n",
    "for pair in features_and_weights:\n",
    "    if pair[0] > .0001:\n",
    "        useful_feature_cols.append(pair[1])\n",
    "\n",
    "useful_feature_cols.sort()\n",
    "\n",
    "\n",
    "compressed_features = []\n",
    "for i in range(X.shape[0]):\n",
    "    mini_hot = []\n",
    "    for col in useful_feature_cols:\n",
    "        mini_hot.append(X[i][col] )\n",
    "        \n",
    "    compressed_features.append(mini_hot)\n",
    "\n",
    "X_important = np.array(compressed_features)\n",
    "\n",
    "X_imp_train, Y_imp_train, X_imp_test, Y_imp_test = account_cv_split(X_important, full_data[\"Expense_Type\"], index)"
   ]
  },
  {
   "cell_type": "markdown",
   "metadata": {},
   "source": [
    "# Train the model and see how it improves"
   ]
  },
  {
   "cell_type": "code",
   "execution_count": 172,
   "metadata": {
    "collapsed": false
   },
   "outputs": [
    {
     "name": "stdout",
     "output_type": "stream",
     "text": [
      "Random State  95 Important Data Accuracy:  0.4090614886731392\n",
      "Random State  95 Full Data Accuracy:  0.8472491909385114\n",
      "Random State  22 Important Data Accuracy:  0.4084142394822006\n",
      "Random State  22 Full Data Accuracy:  0.8239482200647249\n",
      "Random State  56 Important Data Accuracy:  0.39870550161812296\n",
      "Random State  56 Full Data Accuracy:  0.8401294498381877\n"
     ]
    },
    {
     "data": {
      "image/png": "[encoded data removed]",
      "text/plain": [
       "<matplotlib.figure.Figure at 0x7ffa82139f60>"
      ]
     },
     "metadata": {},
     "output_type": "display_data"
    },
    {
     "data": {
      "image/png": "[encoded data removed]",
      "text/plain": [
       "<matplotlib.figure.Figure at 0x7ffa75ee86a0>"
      ]
     },
     "metadata": {},
     "output_type": "display_data"
    },
    {
     "data": {
      "image/png": "[encoded data removed]",
      "text/plain": [
       "<matplotlib.figure.Figure at 0x7ffa7656fb70>"
      ]
     },
     "metadata": {},
     "output_type": "display_data"
    }
   ],
   "source": [
    "from random import random\n",
    "\n",
    "max_accuracy = 0\n",
    "\n",
    "for i in range(3):\n",
    "    \n",
    "    state = int(random()*100) \n",
    "    \n",
    "    rfc = RandomForestClassifier(n_estimators=500, random_state=state, max_features='log2')\n",
    "    \n",
    "    # get results of full data\n",
    "    rfc = RandomForestClassifier(n_estimators=500, random_state=state, max_features='log2')\n",
    "    rfc.fit(X_train, Y_train)\n",
    "    acc = rfc.score(X_test, Y_test)\n",
    "    print(\"Random State \", state, \"Full Data Accuracy: \", acc)\n",
    "    plot_ngram_rfc(rfc, 2*i)\n",
    "    \n",
    "    # get results of only important data\n",
    "    rfc.fit(X_imp_train, Y_imp_train)\n",
    "    acc = rfc.score(X_imp_test, Y_imp_test)\n",
    "    print(\"Random State \", state, \"Important Data Accuracy: \", acc)\n",
    "    plot_ngram_rfc(rfc, 2*i+1, int(100*acc))"
   ]
  },
  {
   "cell_type": "markdown",
   "metadata": {},
   "source": [
    "# Boosted Decision Tree\n",
    "\n",
    "Because of the inconsistencies with the decision tree, I think there is too high of a potential to have a bad split to confidently use a decision tree on the data and be confident about the accuracy. I think the reason for this is that there are so many different categories, a large number of which do not matter too much. In order to combat this, I'm going to try instead a boosted tree, which will run through every node and simply correct its previous attempts"
   ]
  },
  {
   "cell_type": "code",
   "execution_count": 535,
   "metadata": {
    "collapsed": false
   },
   "outputs": [
    {
     "data": {
      "text/plain": [
       "0.5962199312714777"
      ]
     },
     "execution_count": 535,
     "metadata": {},
     "output_type": "execute_result"
    }
   ],
   "source": [
    "from sklearn.ensemble import AdaBoostClassifier\n",
    "\n",
    "gbt = AdaBoostClassifier(n_estimators=50, learning_rate=.5)\n",
    "\n",
    "gbt.fit(X_train, Y_train)\n",
    "\n",
    "gbt.score(X_test, Y_test)"
   ]
  },
  {
   "cell_type": "markdown",
   "metadata": {},
   "source": [
    "So this actually scored consistently far worse than the random forest- I honestly was not sure how much the gradient boosting would help vs random sampling"
   ]
  },
  {
   "cell_type": "markdown",
   "metadata": {},
   "source": [
    "# SVM\n",
    "\n",
    "I'm pretty sure that this data is, again, way too broad to be fit by"
   ]
  },
  {
   "cell_type": "code",
   "execution_count": 9,
   "metadata": {
    "collapsed": false
   },
   "outputs": [
    {
     "name": "stdout",
     "output_type": "stream",
     "text": [
      "Accuracy:  0.631578947368421\n"
     ]
    }
   ],
   "source": [
    "svc = svm.SVC()\n",
    "\n",
    "svc.fit(X_train, Y_train)\n",
    "\n",
    "score = svc.score(X_test, Y_test)\n",
    "\n",
    "print(\"Accuracy: \", score)"
   ]
  },
  {
   "cell_type": "code",
   "execution_count": null,
   "metadata": {
    "collapsed": true
   },
   "outputs": [],
   "source": []
  }
 ],
 "metadata": {
  "anaconda-cloud": {},
  "kernelspec": {
   "display_name": "Python [conda root]",
   "language": "python",
   "name": "conda-root-py"
  },
  "language_info": {
   "codemirror_mode": {
    "name": "ipython",
    "version": 3
   },
   "file_extension": ".py",
   "mimetype": "text/x-python",
   "name": "python",
   "nbconvert_exporter": "python",
   "pygments_lexer": "ipython3",
   "version": "3.5.2"
  }
 },
 "nbformat": 4,
 "nbformat_minor": 1
}
